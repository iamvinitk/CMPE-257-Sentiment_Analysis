{
  "nbformat": 4,
  "nbformat_minor": 0,
  "metadata": {
    "colab": {
      "provenance": []
    },
    "kernelspec": {
      "name": "python3",
      "display_name": "Python 3"
    },
    "language_info": {
      "name": "python"
    },
    "gpuClass": "standard"
  },
  "cells": [
    {
      "cell_type": "code",
      "execution_count": 4,
      "metadata": {
        "colab": {
          "base_uri": "https://localhost:8080/"
        },
        "id": "7HL5SybYqrNn",
        "outputId": "18ebdb1c-33ff-4878-8a92-66f07b3f5ade"
      },
      "outputs": [
        {
          "output_type": "stream",
          "name": "stdout",
          "text": [
            "Drive already mounted at /content/drive; to attempt to forcibly remount, call drive.mount(\"/content/drive\", force_remount=True).\n"
          ]
        }
      ],
      "source": [
        "from google.colab import drive\n",
        "drive.mount('/content/drive')"
      ]
    },
    {
      "cell_type": "code",
      "source": [
        "import numpy as np \n",
        "import pandas as pd \n",
        "import matplotlib.pyplot as plt \n",
        "\n",
        "import re\n",
        "import nltk\n",
        "nltk.download('stopwords')\n",
        "import time\n",
        "import warnings\n",
        "warnings.filterwarnings(\"ignore\")\n",
        "from nltk.corpus import stopwords\n",
        "from nltk.stem.porter import PorterStemmer\n",
        "from nltk.stem import LancasterStemmer\n",
        "from sklearn.utils import shuffle\n",
        "\n",
        "\n",
        "from sklearn.preprocessing import StandardScaler\n",
        "from sklearn.preprocessing import LabelEncoder\n",
        "from sklearn.feature_extraction.text import CountVectorizer\n",
        "from sklearn.feature_extraction.text import TfidfVectorizer\n",
        "from sklearn.metrics import confusion_matrix, accuracy_score, classification_report\n",
        "\n",
        "from sklearn.linear_model import LogisticRegression\n",
        "from sklearn.naive_bayes import MultinomialNB\n",
        "from sklearn.tree import DecisionTreeClassifier\n",
        "from sklearn.ensemble import RandomForestClassifier\n",
        "import xgboost as xgb"
      ],
      "metadata": {
        "colab": {
          "base_uri": "https://localhost:8080/"
        },
        "id": "8YRUJ4PPqyjB",
        "outputId": "4e6c6b9d-130b-4deb-867f-507bfea07101"
      },
      "execution_count": 5,
      "outputs": [
        {
          "output_type": "stream",
          "name": "stderr",
          "text": [
            "[nltk_data] Downloading package stopwords to /root/nltk_data...\n",
            "[nltk_data]   Package stopwords is already up-to-date!\n"
          ]
        }
      ]
    },
    {
      "cell_type": "code",
      "source": [
        "train_df = pd.read_csv('/content/drive/MyDrive/257_Project/train.csv', encoding=\"ISO-8859-1\", header=None)\n",
        "train_df.columns = ['polarity', 'id', 'date', 'query', 'user', 'tweet']\n",
        "\n",
        "test_df = pd.read_csv('/content/drive/MyDrive/257_Project/test.csv', encoding=\"ISO-8859-1\", header=None)\n",
        "test_df.columns = ['polarity', 'id', 'date', 'query', 'user', 'tweet']"
      ],
      "metadata": {
        "id": "N3BJw56dq1q2"
      },
      "execution_count": 6,
      "outputs": []
    },
    {
      "cell_type": "code",
      "source": [
        "train_df.shape"
      ],
      "metadata": {
        "colab": {
          "base_uri": "https://localhost:8080/"
        },
        "id": "Vq0YdVmYq3Ci",
        "outputId": "306f1417-b81f-4735-d7f1-09443188daec"
      },
      "execution_count": 7,
      "outputs": [
        {
          "output_type": "execute_result",
          "data": {
            "text/plain": [
              "(1600000, 6)"
            ]
          },
          "metadata": {},
          "execution_count": 7
        }
      ]
    },
    {
      "cell_type": "code",
      "source": [
        "test_df.shape"
      ],
      "metadata": {
        "colab": {
          "base_uri": "https://localhost:8080/"
        },
        "id": "jOpBMlDNq4Ag",
        "outputId": "63fef972-64dc-4393-94a2-5bdd6228ed02"
      },
      "execution_count": 8,
      "outputs": [
        {
          "output_type": "execute_result",
          "data": {
            "text/plain": [
              "(498, 6)"
            ]
          },
          "metadata": {},
          "execution_count": 8
        }
      ]
    },
    {
      "cell_type": "code",
      "source": [
        "word_bank = []\n",
        "\n",
        "# Function to remove predefined stopwords to reduce disk usage\n",
        "def preprocess(text):\n",
        "    review = re.sub('[^a-zA-Z]',' ',text) \n",
        "    review = review.lower()\n",
        "    review = review.split()\n",
        "    ps = LancasterStemmer()\n",
        "    all_stopwords = stopwords.words('english')\n",
        "    all_stopwords.remove('not')\n",
        "    review = [ps.stem(word) for word in review if not word in set(all_stopwords)]\n",
        "    return ' '.join(review)"
      ],
      "metadata": {
        "id": "ygjurw4Vq5C5"
      },
      "execution_count": 9,
      "outputs": []
    },
    {
      "cell_type": "markdown",
      "source": [
        "Training the model on 50K samples for now, to check if the model runs properly and how the classfication works.\n"
      ],
      "metadata": {
        "id": "L5TprE71sPFv"
      }
    },
    {
      "cell_type": "code",
      "source": [
        "train_df = shuffle(train_df,random_state=2)\n",
        "train_df = train_df[1:50000]"
      ],
      "metadata": {
        "id": "QYmcXjPtq6om"
      },
      "execution_count": 10,
      "outputs": []
    },
    {
      "cell_type": "code",
      "source": [
        "train_df['polarity'].value_counts()"
      ],
      "metadata": {
        "colab": {
          "base_uri": "https://localhost:8080/"
        },
        "id": "sIdEJB0grPsY",
        "outputId": "211f0a93-c7bf-4bdf-9abf-60e37a0aba0e"
      },
      "execution_count": 11,
      "outputs": [
        {
          "output_type": "execute_result",
          "data": {
            "text/plain": [
              "4    25093\n",
              "0    24906\n",
              "Name: polarity, dtype: int64"
            ]
          },
          "metadata": {},
          "execution_count": 11
        }
      ]
    },
    {
      "cell_type": "code",
      "source": [
        "X_train = train_df['tweet'].apply(lambda x: preprocess(x))"
      ],
      "metadata": {
        "id": "krC8igWbrTIn"
      },
      "execution_count": 12,
      "outputs": []
    },
    {
      "cell_type": "code",
      "source": [
        "y_train = train_df['polarity']\n",
        "le = LabelEncoder()\n",
        "y = le.fit_transform(y_train)"
      ],
      "metadata": {
        "id": "zWGo2V1OrV5s"
      },
      "execution_count": 13,
      "outputs": []
    },
    {
      "cell_type": "code",
      "source": [
        "X_test = test_df['tweet']\n",
        "y_test = test_df['polarity']"
      ],
      "metadata": {
        "id": "RJ-oKvCErW4z"
      },
      "execution_count": 14,
      "outputs": []
    },
    {
      "cell_type": "code",
      "source": [
        "tfidf = TfidfVectorizer(max_features = 100)\n",
        "X_train_tf = tfidf.fit_transform(X_train).toarray() \n",
        "X_test = tfidf.transform(X_test).toarray()"
      ],
      "metadata": {
        "id": "2FxiREl0rX1v"
      },
      "execution_count": 15,
      "outputs": []
    },
    {
      "cell_type": "code",
      "source": [
        "X_train_tf.shape, X_test.shape, y_train.shape, y_test.shape"
      ],
      "metadata": {
        "colab": {
          "base_uri": "https://localhost:8080/"
        },
        "id": "8GIf6OBUraGc",
        "outputId": "6e5d1312-ca57-4ae8-ef5d-50bf71ef1c97"
      },
      "execution_count": 16,
      "outputs": [
        {
          "output_type": "execute_result",
          "data": {
            "text/plain": [
              "((49999, 100), (498, 100), (49999,), (498,))"
            ]
          },
          "metadata": {},
          "execution_count": 16
        }
      ]
    },
    {
      "cell_type": "markdown",
      "source": [
        "**Logistic Regression**"
      ],
      "metadata": {
        "id": "Ho1VHCVtrd6C"
      }
    },
    {
      "cell_type": "code",
      "source": [
        "lr = LogisticRegression(random_state = 0)\n",
        "start_time = time.time()\n",
        "lr.fit(X_train_tf, y_train) \n",
        "print(\"Execution Time:\", time.time()-start_time,\"secs\")"
      ],
      "metadata": {
        "colab": {
          "base_uri": "https://localhost:8080/"
        },
        "id": "tpimxfuFrfP_",
        "outputId": "7580193a-d0e1-4c89-d56a-dcb1a4ab3546"
      },
      "execution_count": 17,
      "outputs": [
        {
          "output_type": "stream",
          "name": "stdout",
          "text": [
            "Execution Time: 0.30883216857910156 secs\n"
          ]
        }
      ]
    },
    {
      "cell_type": "code",
      "source": [
        "y_pred_lr = lr.predict(X_test)\n",
        "print(\"Accuracy:\\n\", accuracy_score(y_test, y_pred_lr))\n",
        "print(\"Confusion Matrix:\\n\", confusion_matrix(y_test, y_pred_lr))\n",
        "print(\"Classification Report:\\n\", classification_report(y_test, y_pred_lr))"
      ],
      "metadata": {
        "colab": {
          "base_uri": "https://localhost:8080/"
        },
        "id": "A3iWnHIOrcCl",
        "outputId": "5f076c96-3848-4056-f71c-f653b5204893"
      },
      "execution_count": 18,
      "outputs": [
        {
          "output_type": "stream",
          "name": "stdout",
          "text": [
            "Accuracy:\n",
            " 0.41566265060240964\n",
            "Confusion Matrix:\n",
            " [[ 66   0 111]\n",
            " [  8   0 131]\n",
            " [ 41   0 141]]\n",
            "Classification Report:\n",
            "               precision    recall  f1-score   support\n",
            "\n",
            "           0       0.57      0.37      0.45       177\n",
            "           2       0.00      0.00      0.00       139\n",
            "           4       0.37      0.77      0.50       182\n",
            "\n",
            "    accuracy                           0.42       498\n",
            "   macro avg       0.31      0.38      0.32       498\n",
            "weighted avg       0.34      0.42      0.34       498\n",
            "\n"
          ]
        }
      ]
    },
    {
      "cell_type": "markdown",
      "source": [
        "Current accuracy of the model using logistic regression on 400k samples : ~42%\n",
        "\n"
      ],
      "metadata": {
        "id": "OT3RA4tIrlPD"
      }
    },
    {
      "cell_type": "markdown",
      "source": [
        "**Decision Tree**"
      ],
      "metadata": {
        "id": "sXUpBLBProQh"
      }
    },
    {
      "cell_type": "code",
      "source": [
        "dc = DecisionTreeClassifier(criterion = 'entropy', random_state = 22)\n",
        "start_time = time.time()\n",
        "dc.fit(X_train_tf, y_train)\n",
        "print(\"Execution Time:\", time.time()-start_time,\"secs\")"
      ],
      "metadata": {
        "colab": {
          "base_uri": "https://localhost:8080/"
        },
        "id": "pmR79dw3rhf7",
        "outputId": "5bfa8426-32fa-45f9-ae4b-35319288726c"
      },
      "execution_count": 19,
      "outputs": [
        {
          "output_type": "stream",
          "name": "stdout",
          "text": [
            "Execution Time: 4.841554880142212 secs\n"
          ]
        }
      ]
    },
    {
      "cell_type": "code",
      "source": [
        "y_pred_dc = dc.predict(X_test)\n",
        "print(\"Accuracy:\\n\", accuracy_score(y_test, y_pred_dc))\n",
        "print(\"Confusion Matrix:\\n\", confusion_matrix(y_test, y_pred_dc))\n",
        "print(\"Classification Report:\\n\", classification_report(y_test, y_pred_dc))"
      ],
      "metadata": {
        "colab": {
          "base_uri": "https://localhost:8080/"
        },
        "id": "YDlRa-R_rrre",
        "outputId": "e38cf045-d7d4-466c-f98d-acba9e3689f7"
      },
      "execution_count": 20,
      "outputs": [
        {
          "output_type": "stream",
          "name": "stdout",
          "text": [
            "Accuracy:\n",
            " 0.41365461847389556\n",
            "Confusion Matrix:\n",
            " [[ 71   0 106]\n",
            " [ 22   0 117]\n",
            " [ 47   0 135]]\n",
            "Classification Report:\n",
            "               precision    recall  f1-score   support\n",
            "\n",
            "           0       0.51      0.40      0.45       177\n",
            "           2       0.00      0.00      0.00       139\n",
            "           4       0.38      0.74      0.50       182\n",
            "\n",
            "    accuracy                           0.41       498\n",
            "   macro avg       0.29      0.38      0.32       498\n",
            "weighted avg       0.32      0.41      0.34       498\n",
            "\n"
          ]
        }
      ]
    },
    {
      "cell_type": "markdown",
      "source": [
        "Current accuracy of the model using decision tree classifier on 50k samples : ~41%"
      ],
      "metadata": {
        "id": "taJiRQ8DrvN3"
      }
    },
    {
      "cell_type": "markdown",
      "source": [
        "**Naive Bayes Classifier**"
      ],
      "metadata": {
        "id": "0OIRVYg3rxx5"
      }
    },
    {
      "cell_type": "code",
      "source": [
        "nb = MultinomialNB()\n",
        "start_time = time.time()\n",
        "nb.fit(X_train_tf,y_train)\n",
        "print(\"Execution Time:\", time.time()-start_time,\"secs\")"
      ],
      "metadata": {
        "colab": {
          "base_uri": "https://localhost:8080/"
        },
        "id": "Y8vSxyoHrtA1",
        "outputId": "6ab8c76d-3501-4449-8330-c6cee0310863"
      },
      "execution_count": 21,
      "outputs": [
        {
          "output_type": "stream",
          "name": "stdout",
          "text": [
            "Execution Time: 0.035933732986450195 secs\n"
          ]
        }
      ]
    },
    {
      "cell_type": "code",
      "source": [
        "y_pred_nb = nb.predict(X_test)\n",
        "print(\"Accuracy:\\n\", accuracy_score(y_test, y_pred_nb))\n",
        "print(\"Confusion Matrix:\\n\", confusion_matrix(y_test, y_pred_nb))\n",
        "print(\"Classification Report:\\n\", classification_report(y_test, y_pred_nb))"
      ],
      "metadata": {
        "colab": {
          "base_uri": "https://localhost:8080/"
        },
        "id": "H3l_ZM6Ir2LR",
        "outputId": "5f5df850-5685-4611-a1e5-2cd1a55230d4"
      },
      "execution_count": 22,
      "outputs": [
        {
          "output_type": "stream",
          "name": "stdout",
          "text": [
            "Accuracy:\n",
            " 0.41767068273092367\n",
            "Confusion Matrix:\n",
            " [[ 66   0 111]\n",
            " [ 10   0 129]\n",
            " [ 40   0 142]]\n",
            "Classification Report:\n",
            "               precision    recall  f1-score   support\n",
            "\n",
            "           0       0.57      0.37      0.45       177\n",
            "           2       0.00      0.00      0.00       139\n",
            "           4       0.37      0.78      0.50       182\n",
            "\n",
            "    accuracy                           0.42       498\n",
            "   macro avg       0.31      0.38      0.32       498\n",
            "weighted avg       0.34      0.42      0.34       498\n",
            "\n"
          ]
        }
      ]
    },
    {
      "cell_type": "markdown",
      "source": [
        "Current accuracy of the model using decision tree classifier on 400k samples : ~42%"
      ],
      "metadata": {
        "id": "0kOqmLPar5e4"
      }
    }
  ]
}