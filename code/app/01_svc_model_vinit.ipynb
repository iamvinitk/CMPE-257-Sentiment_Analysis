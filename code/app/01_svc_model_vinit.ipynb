{
 "cells": [
  {
   "cell_type": "code",
   "execution_count": 1,
   "metadata": {},
   "outputs": [],
   "source": [
    "from sklearn import preprocessing\n",
    "from sklearn.decomposition import TruncatedSVD\n",
    "from sklearn.feature_extraction.text import TfidfVectorizer\n",
    "from sklearn.metrics import f1_score\n",
    "import pandas as pd\n",
    "from sklearn.svm import SVC"
   ]
  },
  {
   "cell_type": "code",
   "execution_count": 2,
   "metadata": {},
   "outputs": [],
   "source": [
    "# read csv\n",
    "train_data = pd.read_csv('./data/reduced_train.csv')\n",
    "test_data = pd.read_csv('./data/reduced_test.csv')"
   ]
  },
  {
   "cell_type": "code",
   "execution_count": 3,
   "metadata": {},
   "outputs": [],
   "source": [
    "# label the sentiments\n",
    "encoded_labels = preprocessing.LabelEncoder()\n",
    "\n",
    "train_labels = encoded_labels.fit_transform(train_data['sentiment'])\n",
    "test_labels = encoded_labels.fit_transform(test_data['sentiment'])"
   ]
  },
  {
   "cell_type": "code",
   "execution_count": 4,
   "metadata": {},
   "outputs": [],
   "source": [
    "# TF-IDF\n",
    "tfidf = TfidfVectorizer(min_df=3, max_features=None, strip_accents='unicode', analyzer='word',\n",
    "                        token_pattern=r'\\w{1,}',\n",
    "                        ngram_range=(1, 3), use_idf=1, smooth_idf=1, sublinear_tf=1, stop_words='english')\n",
    "\n",
    "tfidf.fit(list(train_data['tweet']) + list(test_data['tweet']))\n",
    "\n",
    "train_features = tfidf.transform(train_data['tweet'])\n",
    "test_features = tfidf.transform(test_data['tweet'])"
   ]
  },
  {
   "cell_type": "code",
   "execution_count": 5,
   "metadata": {},
   "outputs": [],
   "source": [
    "# SVD\n",
    "svd = TruncatedSVD(n_components=300)\n",
    "svd.fit(train_features)\n",
    "\n",
    "train_features = svd.transform(train_features)\n",
    "test_features = svd.transform(test_features)"
   ]
  },
  {
   "cell_type": "code",
   "execution_count": 6,
   "metadata": {},
   "outputs": [],
   "source": [
    "# Normalize data with StandardScaler\n",
    "scaler = preprocessing.StandardScaler()\n",
    "scaler.fit(train_features)\n",
    "\n",
    "train_features = scaler.transform(train_features)\n",
    "test_features = scaler.transform(test_features)"
   ]
  },
  {
   "cell_type": "code",
   "execution_count": 7,
   "metadata": {},
   "outputs": [],
   "source": [
    "# SVC model\n",
    "svc = SVC(C=1.0, probability=True)\n",
    "\n",
    "svc.fit(train_features, train_labels)\n",
    "\n",
    "# predict\n",
    "predictions = svc.predict(test_features)"
   ]
  },
  {
   "cell_type": "code",
   "execution_count": 8,
   "metadata": {},
   "outputs": [
    {
     "name": "stdout",
     "output_type": "stream",
     "text": [
      "0.6160597417110227\n",
      "Accuracy 0.6164658634538153\n"
     ]
    }
   ],
   "source": [
    "from sklearn.metrics import accuracy_score\n",
    "\n",
    "# calculate f1 score\n",
    "f1 = f1_score(test_labels, predictions, average='weighted')\n",
    "print(f1)\n",
    "print(\"Accuracy\", accuracy_score(test_labels, predictions))"
   ]
  },
  {
   "cell_type": "code",
   "execution_count": 18,
   "outputs": [],
   "source": [
    "from sklearn.metrics import confusion_matrix\n",
    "import matplotlib.pyplot as plt\n",
    "import itertools\n",
    "import numpy as np\n",
    "import seaborn as sns\n",
    "def plot_confusion_matrix(cm, classes,\n",
    "                          title='Confusion matrix',\n",
    "                          cmap=plt.cm.Blues):\n",
    "    \"\"\"\n",
    "    This function prints and plots the confusion matrix.\n",
    "    Normalization can be applied by setting `normalize=True`.\n",
    "    \"\"\"\n",
    "    try:\n",
    "      cm = cm.astype('float') / cm.sum(axis=1)[:, np.newaxis]\n",
    "\n",
    "      plt.imshow(cm, interpolation='nearest', cmap=cmap)\n",
    "      plt.title(title, fontsize=30)\n",
    "      plt.colorbar()\n",
    "      tick_marks = np.arange(len(classes))\n",
    "      plt.xticks(tick_marks, classes, rotation=90, fontsize=22)\n",
    "      plt.yticks(tick_marks, classes, fontsize=22)\n",
    "\n",
    "      fmt = '.2f'\n",
    "      thresh = cm.max() / 2.\n",
    "      for i, j in itertools.product(range(cm.shape[0]), range(cm.shape[1])):\n",
    "          plt.text(j, i, format(cm[i, j], fmt),\n",
    "                  horizontalalignment=\"center\",\n",
    "                  color=\"white\" if cm[i, j] > thresh else \"black\")\n",
    "\n",
    "      plt.ylabel('True label', fontsize=25)\n",
    "      plt.xlabel('Predicted label', fontsize=25)\n",
    "    except Exception as e:\n",
    "      print(e)"
   ],
   "metadata": {
    "collapsed": false
   }
  },
  {
   "cell_type": "code",
   "execution_count": 20,
   "outputs": [
    {
     "name": "stdout",
     "output_type": "stream",
     "text": [
      "[[ 81  62  34]\n",
      " [  4 117  18]\n",
      " [  8  65 109]]\n"
     ]
    },
    {
     "data": {
      "text/plain": "<AxesSubplot:>"
     },
     "execution_count": 20,
     "metadata": {},
     "output_type": "execute_result"
    },
    {
     "data": {
      "text/plain": "<Figure size 640x480 with 2 Axes>",
      "image/png": "[encoded data removed]"
     },
     "metadata": {},
     "output_type": "display_data"
    }
   ],
   "source": [
    "cnf_matrix = confusion_matrix(test_labels, predictions)\n",
    "print(cnf_matrix)\n",
    "\n",
    "# plot confusion matrix\n",
    "sns.heatmap(cnf_matrix/np.sum(cnf_matrix), annot=True,\n",
    "            fmt='.2%', cmap='Blues')"
   ],
   "metadata": {
    "collapsed": false
   }
  },
  {
   "cell_type": "code",
   "execution_count": null,
   "outputs": [],
   "source": [],
   "metadata": {
    "collapsed": false
   }
  }
 ],
 "metadata": {
  "kernelspec": {
   "display_name": "Python 3 (ipykernel)",
   "language": "python",
   "name": "python3"
  },
  "language_info": {
   "codemirror_mode": {
    "name": "ipython",
    "version": 3
   },
   "file_extension": ".py",
   "mimetype": "text/x-python",
   "name": "python",
   "nbconvert_exporter": "python",
   "pygments_lexer": "ipython3",
   "version": "3.9.6"
  }
 },
 "nbformat": 4,
 "nbformat_minor": 1
}
