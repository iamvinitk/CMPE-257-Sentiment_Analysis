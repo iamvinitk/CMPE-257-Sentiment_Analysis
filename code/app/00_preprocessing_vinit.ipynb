{
 "cells": [
  {
   "cell_type": "code",
   "execution_count": 9,
   "metadata": {},
   "outputs": [],
   "source": [
    "import pandas as pd\n",
    "from nltk.tokenize import word_tokenize\n",
    "from nltk.corpus import stopwords\n",
    "from nltk.stem import WordNetLemmatizer\n",
    "import re"
   ]
  },
  {
   "cell_type": "code",
   "execution_count": 10,
   "metadata": {},
   "outputs": [
    {
     "name": "stdout",
     "output_type": "stream",
     "text": [
      "   sentiment          id                          date     query  \\\n",
      "0          0  1467810369  Mon Apr 06 22:19:45 PDT 2009  NO_QUERY   \n",
      "1          0  1467810672  Mon Apr 06 22:19:49 PDT 2009  NO_QUERY   \n",
      "2          0  1467810917  Mon Apr 06 22:19:53 PDT 2009  NO_QUERY   \n",
      "3          0  1467811184  Mon Apr 06 22:19:57 PDT 2009  NO_QUERY   \n",
      "4          0  1467811193  Mon Apr 06 22:19:57 PDT 2009  NO_QUERY   \n",
      "\n",
      "              user                                              tweet  \n",
      "0  _TheSpecialOne_  @switchfoot http://twitpic.com/2y1zl - Awww, t...  \n",
      "1    scotthamilton  is upset that he can't update his Facebook by ...  \n",
      "2         mattycus  @Kenichan I dived many times for the ball. Man...  \n",
      "3          ElleCTF    my whole body feels itchy and like its on fire   \n",
      "4           Karoli  @nationwideclass no, it's not behaving at all....  \n",
      "Size of the dataset (1600000, 6)\n"
     ]
    }
   ],
   "source": [
    "data = pd.read_csv('./data/training.csv', encoding=\"ISO-8859-1\", header=None)\n",
    "data.columns = ['sentiment', 'id', 'date', 'query', 'user', 'tweet']\n",
    "\n",
    "print(data.head())\n",
    "\n",
    "print(\"Size of the dataset\", data.shape)"
   ]
  },
  {
   "cell_type": "code",
   "execution_count": 11,
   "metadata": {},
   "outputs": [
    {
     "name": "stdout",
     "output_type": "stream",
     "text": [
      "Missing Values \n",
      "\n",
      " sentiment    0\n",
      "id           0\n",
      "date         0\n",
      "query        0\n",
      "user         0\n",
      "tweet        0\n",
      "dtype: int64\n",
      "Duplicated Values \n",
      " 0\n"
     ]
    }
   ],
   "source": [
    "print(\"Missing Values \\n\\n\", data.isnull().sum())\n",
    "print(\"Duplicated Values \\n\", data.duplicated().sum())"
   ]
  },
  {
   "cell_type": "markdown",
   "metadata": {},
   "source": [
    "#### There are no missing or duplicate values."
   ]
  },
  {
   "cell_type": "code",
   "execution_count": 12,
   "metadata": {
    "pycharm": {
     "is_executing": true
    }
   },
   "outputs": [
    {
     "name": "stdout",
     "output_type": "stream",
     "text": [
      "Number of http links 71635\n",
      "Number of @ mentions 798628\n",
      "Number of # mentions 45133\n",
      "Number of RT 0\n"
     ]
    }
   ],
   "source": [
    "# Preprocessing\n",
    "print(\"Number of http links\", data['tweet'].str.count('http').sum())\n",
    "data['tweet'] = data['tweet'].str.replace(r'http\\S+|www.\\S+', '', case=False, regex=True)\n",
    "\n",
    "print(\"Number of @ mentions\", data['tweet'].str.count('@').sum())\n",
    "data['tweet'] = data['tweet'].str.replace(r'@\\S+', '', case=False, regex=True)\n",
    "\n",
    "print(\"Number of # mentions\", data['tweet'].str.count('#').sum())\n",
    "data['tweet'] = data['tweet'].str.replace(r'#\\S+', '', case=False, regex=True)\n",
    "\n",
    "print(\"Number of RT\", data['tweet'].str.count('RT').sum())\n",
    "data['tweet'] = data['tweet'].str.replace(r'RT', '', case=False, regex=True)"
   ]
  },
  {
   "cell_type": "code",
   "execution_count": null,
   "metadata": {},
   "outputs": [],
   "source": [
    "stop_words = set(stopwords.words('english'))\n",
    "stop_words.add('quot')\n",
    "stop_words.add('amp')\n",
    "\n",
    "lemma = WordNetLemmatizer()\n",
    "\n",
    "\n",
    "def clean_text(text):\n",
    "    text = str(text).lower()\n",
    "    text = re.sub(r'http\\S+', ' ', text)\n",
    "    text = re.sub('[^a-zA-Z]', ' ', text)\n",
    "    text = word_tokenize(text)\n",
    "    text = [item for item in text if item not in stop_words]\n",
    "    text = [lemma.lemmatize(w) for w in text]\n",
    "    text = [i for i in text if len(i) > 2]\n",
    "    text = ' '.join(text)\n",
    "    return text\n",
    "\n",
    "\n",
    "data['clean_tweet'] = data['tweet'].apply(clean_text)"
   ]
  },
  {
   "cell_type": "code",
   "execution_count": null,
   "metadata": {},
   "outputs": [],
   "source": []
  }
 ],
 "metadata": {
  "kernelspec": {
   "display_name": "Python 3 (ipykernel)",
   "language": "python",
   "name": "python3"
  },
  "language_info": {
   "codemirror_mode": {
    "name": "ipython",
    "version": 3
   },
   "file_extension": ".py",
   "mimetype": "text/x-python",
   "name": "python",
   "nbconvert_exporter": "python",
   "pygments_lexer": "ipython3",
   "version": "3.9.6"
  }
 },
 "nbformat": 4,
 "nbformat_minor": 1
}
