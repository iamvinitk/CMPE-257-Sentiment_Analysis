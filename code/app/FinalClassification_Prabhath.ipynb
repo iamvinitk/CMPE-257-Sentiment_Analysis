{
  "nbformat": 4,
  "nbformat_minor": 0,
  "metadata": {
    "colab": {
      "provenance": []
    },
    "kernelspec": {
      "name": "python3",
      "display_name": "Python 3"
    },
    "language_info": {
      "name": "python"
    },
    "gpuClass": "standard"
  },
  "cells": [
    {
      "cell_type": "code",
      "execution_count": 1,
      "metadata": {
        "colab": {
          "base_uri": "https://localhost:8080/"
        },
        "id": "7HL5SybYqrNn",
        "outputId": "f7c9e6db-6e1b-4577-8fde-1e56cbce0929"
      },
      "outputs": [
        {
          "output_type": "stream",
          "name": "stdout",
          "text": [
            "Drive already mounted at /content/drive; to attempt to forcibly remount, call drive.mount(\"/content/drive\", force_remount=True).\n"
          ]
        }
      ],
      "source": [
        "from google.colab import drive\n",
        "drive.mount('/content/drive')"
      ]
    },
    {
      "cell_type": "code",
      "source": [
        "!pip install torchvision\n",
        "import torch\n",
        "import torchvision"
      ],
      "metadata": {
        "colab": {
          "base_uri": "https://localhost:8080/"
        },
        "id": "pQW9YRQ78p1s",
        "outputId": "3271c81c-02e7-4d74-ab5c-03bd6f95d98c"
      },
      "execution_count": 2,
      "outputs": [
        {
          "output_type": "stream",
          "name": "stdout",
          "text": [
            "Looking in indexes: https://pypi.org/simple, https://us-python.pkg.dev/colab-wheels/public/simple/\n",
            "Requirement already satisfied: torchvision in /usr/local/lib/python3.8/dist-packages (0.13.1+cu113)\n",
            "Requirement already satisfied: torch==1.12.1 in /usr/local/lib/python3.8/dist-packages (from torchvision) (1.12.1+cu113)\n",
            "Requirement already satisfied: typing-extensions in /usr/local/lib/python3.8/dist-packages (from torchvision) (4.1.1)\n",
            "Requirement already satisfied: pillow!=8.3.*,>=5.3.0 in /usr/local/lib/python3.8/dist-packages (from torchvision) (7.1.2)\n",
            "Requirement already satisfied: requests in /usr/local/lib/python3.8/dist-packages (from torchvision) (2.23.0)\n",
            "Requirement already satisfied: numpy in /usr/local/lib/python3.8/dist-packages (from torchvision) (1.21.6)\n",
            "Requirement already satisfied: chardet<4,>=3.0.2 in /usr/local/lib/python3.8/dist-packages (from requests->torchvision) (3.0.4)\n",
            "Requirement already satisfied: urllib3!=1.25.0,!=1.25.1,<1.26,>=1.21.1 in /usr/local/lib/python3.8/dist-packages (from requests->torchvision) (1.24.3)\n",
            "Requirement already satisfied: certifi>=2017.4.17 in /usr/local/lib/python3.8/dist-packages (from requests->torchvision) (2022.9.24)\n",
            "Requirement already satisfied: idna<3,>=2.5 in /usr/local/lib/python3.8/dist-packages (from requests->torchvision) (2.10)\n"
          ]
        }
      ]
    },
    {
      "cell_type": "code",
      "source": [
        "import numpy as np \n",
        "import pandas as pd \n",
        "import matplotlib.pyplot as plt \n",
        "\n",
        "import re\n",
        "import nltk\n",
        "nltk.download('stopwords')\n",
        "import time\n",
        "import warnings\n",
        "warnings.filterwarnings(\"ignore\")\n",
        "from nltk.corpus import stopwords\n",
        "from nltk.stem.porter import PorterStemmer\n",
        "from nltk.stem import LancasterStemmer\n",
        "from sklearn.utils import shuffle\n",
        "\n",
        "\n",
        "from sklearn.preprocessing import StandardScaler\n",
        "from sklearn.preprocessing import LabelEncoder\n",
        "from sklearn.feature_extraction.text import CountVectorizer\n",
        "from sklearn.feature_extraction.text import TfidfVectorizer\n",
        "from sklearn.metrics import confusion_matrix, accuracy_score, classification_report\n",
        "\n",
        "from sklearn.linear_model import LogisticRegression\n",
        "from sklearn.naive_bayes import MultinomialNB\n",
        "from sklearn.tree import DecisionTreeClassifier\n",
        "from sklearn.ensemble import RandomForestClassifier\n",
        "import xgboost as xgb"
      ],
      "metadata": {
        "colab": {
          "base_uri": "https://localhost:8080/"
        },
        "id": "8YRUJ4PPqyjB",
        "outputId": "586ce7a5-0c9f-47ba-cdae-37517ba3d869"
      },
      "execution_count": 3,
      "outputs": [
        {
          "output_type": "stream",
          "name": "stderr",
          "text": [
            "[nltk_data] Downloading package stopwords to /root/nltk_data...\n",
            "[nltk_data]   Package stopwords is already up-to-date!\n"
          ]
        }
      ]
    },
    {
      "cell_type": "code",
      "source": [
        "train_on_gpu = torch.cuda.is_available()\n",
        "gpu_info = !nvidia-smi\n",
        "gpu_info = '\\n'.join(gpu_info)\n",
        "\n",
        "if not train_on_gpu:\n",
        "    print('CUDA is not available.  Training on CPU ... To use GPU, go under edit > notebook settings')\n",
        "else:\n",
        "    print('CUDA is available!  Training on GPU ...')\n",
        "    print(gpu_info)"
      ],
      "metadata": {
        "colab": {
          "base_uri": "https://localhost:8080/"
        },
        "id": "epaAYQ0V8sXK",
        "outputId": "e6e67e87-83cd-42c1-d550-4a7007bdac5b"
      },
      "execution_count": 4,
      "outputs": [
        {
          "output_type": "stream",
          "name": "stdout",
          "text": [
            "CUDA is not available.  Training on CPU ... To use GPU, go under edit > notebook settings\n"
          ]
        }
      ]
    },
    {
      "cell_type": "code",
      "source": [
        "train_df = pd.read_csv('/content/drive/MyDrive/257_Project/train.csv', encoding=\"ISO-8859-1\", header=None)\n",
        "train_df.columns = ['polarity', 'id', 'date', 'query', 'user', 'tweet']\n",
        "\n",
        "test_df = pd.read_csv('/content/drive/MyDrive/257_Project/test.csv', encoding=\"ISO-8859-1\", header=None)\n",
        "test_df.columns = ['polarity', 'id', 'date', 'query', 'user', 'tweet']"
      ],
      "metadata": {
        "id": "N3BJw56dq1q2"
      },
      "execution_count": 5,
      "outputs": []
    },
    {
      "cell_type": "code",
      "source": [
        "train_df.shape"
      ],
      "metadata": {
        "colab": {
          "base_uri": "https://localhost:8080/"
        },
        "id": "Vq0YdVmYq3Ci",
        "outputId": "111046a9-62fe-4a70-d03b-205dad8295aa"
      },
      "execution_count": 6,
      "outputs": [
        {
          "output_type": "execute_result",
          "data": {
            "text/plain": [
              "(1600000, 6)"
            ]
          },
          "metadata": {},
          "execution_count": 6
        }
      ]
    },
    {
      "cell_type": "code",
      "source": [
        "test_df.shape"
      ],
      "metadata": {
        "colab": {
          "base_uri": "https://localhost:8080/"
        },
        "id": "jOpBMlDNq4Ag",
        "outputId": "26867deb-000a-46d2-c640-233bbf682947"
      },
      "execution_count": 7,
      "outputs": [
        {
          "output_type": "execute_result",
          "data": {
            "text/plain": [
              "(498, 6)"
            ]
          },
          "metadata": {},
          "execution_count": 7
        }
      ]
    },
    {
      "cell_type": "code",
      "source": [
        "word_bank = []\n",
        "\n",
        "# Function to remove predefined stopwords to reduce disk usage\n",
        "def preprocess(text):\n",
        "    review = re.sub('[^a-zA-Z]',' ',text) \n",
        "    review = review.lower()\n",
        "    review = review.split()\n",
        "    ps = LancasterStemmer()\n",
        "    all_stopwords = stopwords.words('english')\n",
        "    all_stopwords.remove('not')\n",
        "    review = [ps.stem(word) for word in review if not word in set(all_stopwords)]\n",
        "    return ' '.join(review)"
      ],
      "metadata": {
        "id": "ygjurw4Vq5C5"
      },
      "execution_count": 8,
      "outputs": []
    },
    {
      "cell_type": "markdown",
      "source": [
        "Training the model on 50K samples for now, to check if the model runs properly and how the classfication works.\n"
      ],
      "metadata": {
        "id": "L5TprE71sPFv"
      }
    },
    {
      "cell_type": "code",
      "source": [
        "train_df = shuffle(train_df,random_state=2)\n",
        "train_df = train_df[1:1000]"
      ],
      "metadata": {
        "id": "QYmcXjPtq6om"
      },
      "execution_count": 9,
      "outputs": []
    },
    {
      "cell_type": "code",
      "source": [
        "train_df['polarity'].value_counts()"
      ],
      "metadata": {
        "colab": {
          "base_uri": "https://localhost:8080/"
        },
        "id": "sIdEJB0grPsY",
        "outputId": "2f0e5ff5-42ab-42ee-9382-771505291ca0"
      },
      "execution_count": 10,
      "outputs": [
        {
          "output_type": "execute_result",
          "data": {
            "text/plain": [
              "0    523\n",
              "4    476\n",
              "Name: polarity, dtype: int64"
            ]
          },
          "metadata": {},
          "execution_count": 10
        }
      ]
    },
    {
      "cell_type": "code",
      "source": [
        "X_train = train_df['tweet'].apply(lambda x: preprocess(x))"
      ],
      "metadata": {
        "id": "krC8igWbrTIn"
      },
      "execution_count": 11,
      "outputs": []
    },
    {
      "cell_type": "code",
      "source": [
        "y_train = train_df['polarity']\n",
        "le = LabelEncoder()\n",
        "y = le.fit_transform(y_train)"
      ],
      "metadata": {
        "id": "zWGo2V1OrV5s"
      },
      "execution_count": 12,
      "outputs": []
    },
    {
      "cell_type": "code",
      "source": [
        "X_test = test_df['tweet']\n",
        "y_test = test_df['polarity']"
      ],
      "metadata": {
        "id": "RJ-oKvCErW4z"
      },
      "execution_count": 13,
      "outputs": []
    },
    {
      "cell_type": "code",
      "source": [
        "tfidf = TfidfVectorizer(max_features = 100)\n",
        "X_train_tf = tfidf.fit_transform(X_train).toarray() \n",
        "X_test = tfidf.transform(X_test).toarray()"
      ],
      "metadata": {
        "id": "2FxiREl0rX1v"
      },
      "execution_count": 14,
      "outputs": []
    },
    {
      "cell_type": "code",
      "source": [
        "X_train_tf.shape, X_test.shape, y_train.shape, y_test.shape"
      ],
      "metadata": {
        "colab": {
          "base_uri": "https://localhost:8080/"
        },
        "id": "8GIf6OBUraGc",
        "outputId": "8ed96b54-40f8-4f9b-fbbe-a8e635d81069"
      },
      "execution_count": 15,
      "outputs": [
        {
          "output_type": "execute_result",
          "data": {
            "text/plain": [
              "((999, 100), (498, 100), (999,), (498,))"
            ]
          },
          "metadata": {},
          "execution_count": 15
        }
      ]
    },
    {
      "cell_type": "markdown",
      "source": [
        "**Logistic Regression**"
      ],
      "metadata": {
        "id": "Ho1VHCVtrd6C"
      }
    },
    {
      "cell_type": "code",
      "source": [
        "lr = LogisticRegression(random_state = 0)\n",
        "start_time = time.time()\n",
        "lr.fit(X_train_tf, y_train) \n",
        "print(\"Execution Time:\", time.time()-start_time,\"secs\")"
      ],
      "metadata": {
        "colab": {
          "base_uri": "https://localhost:8080/"
        },
        "id": "tpimxfuFrfP_",
        "outputId": "a160cc28-109a-4de1-cc7b-f0e04c238fa6"
      },
      "execution_count": 16,
      "outputs": [
        {
          "output_type": "stream",
          "name": "stdout",
          "text": [
            "Execution Time: 0.05013418197631836 secs\n"
          ]
        }
      ]
    },
    {
      "cell_type": "code",
      "source": [
        "y_pred_lr = lr.predict(X_test)\n",
        "print(\"Accuracy:\\n\", accuracy_score(y_test, y_pred_lr))"
      ],
      "metadata": {
        "colab": {
          "base_uri": "https://localhost:8080/"
        },
        "id": "A3iWnHIOrcCl",
        "outputId": "34d5c90e-0ebd-48d2-f968-715012aadf0d"
      },
      "execution_count": 17,
      "outputs": [
        {
          "output_type": "stream",
          "name": "stdout",
          "text": [
            "Accuracy:\n",
            " 0.44779116465863456\n"
          ]
        }
      ]
    },
    {
      "cell_type": "code",
      "source": [
        "from sklearn import metrics\n",
        "confusion_matrix = metrics.confusion_matrix(y_test, y_pred_lr)\n",
        "\n",
        "cm_display = metrics.ConfusionMatrixDisplay(confusion_matrix = confusion_matrix, display_labels = ['Negative','Neutral','Positive'])\n",
        "cm_display.plot()"
      ],
      "metadata": {
        "colab": {
          "base_uri": "https://localhost:8080/",
          "height": 300
        },
        "id": "VXxGaJApJNQv",
        "outputId": "573a8450-501b-4125-d635-1bbe5488aba1"
      },
      "execution_count": 18,
      "outputs": [
        {
          "output_type": "execute_result",
          "data": {
            "text/plain": [
              "<sklearn.metrics._plot.confusion_matrix.ConfusionMatrixDisplay at 0x7fc93a0e5790>"
            ]
          },
          "metadata": {},
          "execution_count": 18
        },
        {
          "output_type": "display_data",
          "data": {
            "text/plain": [
              "<Figure size 432x288 with 2 Axes>"
            ],
            "image/png": "[encoded data removed]"
          },
          "metadata": {
            "needs_background": "light"
          }
        }
      ]
    },
    {
      "cell_type": "markdown",
      "source": [
        "Current accuracy of the model using logistic regression on 400k samples : ~42%\n",
        "\n"
      ],
      "metadata": {
        "id": "OT3RA4tIrlPD"
      }
    },
    {
      "cell_type": "markdown",
      "source": [
        "**Decision Tree**"
      ],
      "metadata": {
        "id": "sXUpBLBProQh"
      }
    },
    {
      "cell_type": "code",
      "source": [
        "dc = DecisionTreeClassifier(criterion = 'entropy', random_state = 22)\n",
        "start_time = time.time()\n",
        "dc.fit(X_train_tf, y_train)\n",
        "print(\"Execution Time:\", time.time()-start_time,\"secs\")"
      ],
      "metadata": {
        "colab": {
          "base_uri": "https://localhost:8080/"
        },
        "id": "pmR79dw3rhf7",
        "outputId": "fe42d38e-b023-4709-d2bf-e245ac548a9f"
      },
      "execution_count": 19,
      "outputs": [
        {
          "output_type": "stream",
          "name": "stdout",
          "text": [
            "Execution Time: 0.1045985221862793 secs\n"
          ]
        }
      ]
    },
    {
      "cell_type": "code",
      "source": [
        "y_pred_dc = dc.predict(X_test)\n",
        "print(\"Accuracy:\\n\", accuracy_score(y_test, y_pred_dc))"
      ],
      "metadata": {
        "colab": {
          "base_uri": "https://localhost:8080/"
        },
        "id": "TsrUN70E8OoC",
        "outputId": "5ccaca24-5c6a-41a3-f025-6308f9dd44e0"
      },
      "execution_count": 20,
      "outputs": [
        {
          "output_type": "stream",
          "name": "stdout",
          "text": [
            "Accuracy:\n",
            " 0.41365461847389556\n"
          ]
        }
      ]
    },
    {
      "cell_type": "code",
      "source": [
        "from sklearn import metrics\n",
        "confusion_matrix = metrics.confusion_matrix(y_test, y_pred_dc)\n",
        "\n",
        "cm_display = metrics.ConfusionMatrixDisplay(confusion_matrix = confusion_matrix, display_labels = ['Negative','Neutral' ,'Positive'])\n",
        "cm_display.plot()"
      ],
      "metadata": {
        "id": "h3jCVkEIJ7ou",
        "colab": {
          "base_uri": "https://localhost:8080/",
          "height": 297
        },
        "outputId": "2a82f409-9178-44c7-8912-edb3351644fd"
      },
      "execution_count": 21,
      "outputs": [
        {
          "output_type": "execute_result",
          "data": {
            "text/plain": [
              "<sklearn.metrics._plot.confusion_matrix.ConfusionMatrixDisplay at 0x7fc937b5a340>"
            ]
          },
          "metadata": {},
          "execution_count": 21
        },
        {
          "output_type": "display_data",
          "data": {
            "text/plain": [
              "<Figure size 432x288 with 2 Axes>"
            ],
            "image/png": "[encoded data removed]"
          },
          "metadata": {
            "needs_background": "light"
          }
        }
      ]
    },
    {
      "cell_type": "markdown",
      "source": [
        "Current accuracy of the model using decision tree classifier on 50k samples : ~41%"
      ],
      "metadata": {
        "id": "taJiRQ8DrvN3"
      }
    },
    {
      "cell_type": "markdown",
      "source": [
        "**Naive Bayes Classifier**"
      ],
      "metadata": {
        "id": "0OIRVYg3rxx5"
      }
    },
    {
      "cell_type": "code",
      "source": [
        "nb = MultinomialNB()\n",
        "start_time = time.time()\n",
        "nb.fit(X_train_tf,y_train)\n",
        "print(\"Execution Time:\", time.time()-start_time,\"secs\")"
      ],
      "metadata": {
        "id": "Y8vSxyoHrtA1",
        "colab": {
          "base_uri": "https://localhost:8080/"
        },
        "outputId": "5d35d7f4-76aa-4cb9-b9ed-c3674ac45606"
      },
      "execution_count": 22,
      "outputs": [
        {
          "output_type": "stream",
          "name": "stdout",
          "text": [
            "Execution Time: 0.0028944015502929688 secs\n"
          ]
        }
      ]
    },
    {
      "cell_type": "code",
      "source": [
        "y_pred_nb = nb.predict(X_test)\n",
        "print(\"Accuracy:\\n\", accuracy_score(y_test, y_pred_nb))"
      ],
      "metadata": {
        "id": "H3l_ZM6Ir2LR",
        "colab": {
          "base_uri": "https://localhost:8080/"
        },
        "outputId": "633d711a-b466-41c3-d44c-64747b5b400b"
      },
      "execution_count": 23,
      "outputs": [
        {
          "output_type": "stream",
          "name": "stdout",
          "text": [
            "Accuracy:\n",
            " 0.4397590361445783\n"
          ]
        }
      ]
    },
    {
      "cell_type": "markdown",
      "source": [
        "Current accuracy of the model using decision tree classifier on 400k samples : ~42%"
      ],
      "metadata": {
        "id": "0kOqmLPar5e4"
      }
    },
    {
      "cell_type": "code",
      "source": [
        "from sklearn import metrics\n",
        "confusion_matrix = metrics.confusion_matrix(y_test, y_pred_nb)\n",
        "\n",
        "cm_display = metrics.ConfusionMatrixDisplay(confusion_matrix = confusion_matrix, display_labels = ['Negative','Neutral', 'Positive'])\n",
        "cm_display.plot()"
      ],
      "metadata": {
        "id": "BBOU6DCzLjY2",
        "colab": {
          "base_uri": "https://localhost:8080/",
          "height": 296
        },
        "outputId": "18b9f5ec-708e-4148-878b-6dae14815d65"
      },
      "execution_count": 24,
      "outputs": [
        {
          "output_type": "execute_result",
          "data": {
            "text/plain": [
              "<sklearn.metrics._plot.confusion_matrix.ConfusionMatrixDisplay at 0x7fc937ff7760>"
            ]
          },
          "metadata": {},
          "execution_count": 24
        },
        {
          "output_type": "display_data",
          "data": {
            "text/plain": [
              "<Figure size 432x288 with 2 Axes>"
            ],
            "image/png": "[encoded data removed]"
          },
          "metadata": {
            "needs_background": "light"
          }
        }
      ]
    },
    {
      "cell_type": "markdown",
      "source": [
        "Since the model accuracy was very low. I filtered out the neutral tweet label and made it positive. Neutral label tag was removed altogether."
      ],
      "metadata": {
        "id": "weRujhMB8ZCu"
      }
    },
    {
      "cell_type": "code",
      "source": [
        "train_df['polarity'] = train_df['polarity'].replace(4,1)\n",
        "train_df"
      ],
      "metadata": {
        "id": "z4XujwwmLjj2",
        "colab": {
          "base_uri": "https://localhost:8080/",
          "height": 424
        },
        "outputId": "024463e4-fe0d-4e03-bd86-931a1fc41aa2"
      },
      "execution_count": 25,
      "outputs": [
        {
          "output_type": "execute_result",
          "data": {
            "text/plain": [
              "         polarity          id                          date     query  \\\n",
              "408251          0  2059364084  Sat Jun 06 16:47:03 PDT 2009  NO_QUERY   \n",
              "1559739         1  2186151891  Mon Jun 15 18:25:49 PDT 2009  NO_QUERY   \n",
              "571248          0  2208723981  Wed Jun 17 09:33:02 PDT 2009  NO_QUERY   \n",
              "524639          0  2193564503  Tue Jun 16 08:37:46 PDT 2009  NO_QUERY   \n",
              "311150          0  2001240587  Tue Jun 02 00:15:30 PDT 2009  NO_QUERY   \n",
              "...           ...         ...                           ...       ...   \n",
              "654734          0  2239581310  Fri Jun 19 08:43:05 PDT 2009  NO_QUERY   \n",
              "751053          0  2285902061  Mon Jun 22 15:44:05 PDT 2009  NO_QUERY   \n",
              "772903          0  2302962179  Tue Jun 23 17:32:15 PDT 2009  NO_QUERY   \n",
              "1535977         1  2179155023  Mon Jun 15 08:43:15 PDT 2009  NO_QUERY   \n",
              "239874          0  1980712761  Sun May 31 07:28:59 PDT 2009  NO_QUERY   \n",
              "\n",
              "                    user                                              tweet  \n",
              "408251        MrsAmarieB                              my baby's growing up   \n",
              "1559739    epallaviccini          Painted Black-Rolling Stones..the best!    \n",
              "571248         Kiwitabby                    kk, i'm logging off now  BYEZZ!  \n",
              "524639           annaqui                   Shitty shitty shitty news today   \n",
              "311150     smellyocheese                 @Askmewhats * hugs* what's wrong?   \n",
              "...                  ...                                                ...  \n",
              "654734    RememberBataan  obviously not going to have time for the gym t...  \n",
              "751053   deepoffenberger          waiting to hear from the vet about hymie   \n",
              "772903        Bridgett26  so disappointed about dinner...bad veggie lo m...  \n",
              "1535977       role_model  @simpleplan i'm going!  see you guys in 4 days...  \n",
              "239874    maimunaibrahim  mathsrevisionmathsrevisionmathsrevision. i'm d...  \n",
              "\n",
              "[999 rows x 6 columns]"
            ],
            "text/html": [
              "\n",
              "  <div id=\"df-1a6fcd48-f43f-4977-a27c-b9e054c923f0\">\n",
              "    <div class=\"colab-df-container\">\n",
              "      <div>\n",
              "<style scoped>\n",
              "    .dataframe tbody tr th:only-of-type {\n",
              "        vertical-align: middle;\n",
              "    }\n",
              "\n",
              "    .dataframe tbody tr th {\n",
              "        vertical-align: top;\n",
              "    }\n",
              "\n",
              "    .dataframe thead th {\n",
              "        text-align: right;\n",
              "    }\n",
              "</style>\n",
              "<table border=\"1\" class=\"dataframe\">\n",
              "  <thead>\n",
              "    <tr style=\"text-align: right;\">\n",
              "      <th></th>\n",
              "      <th>polarity</th>\n",
              "      <th>id</th>\n",
              "      <th>date</th>\n",
              "      <th>query</th>\n",
              "      <th>user</th>\n",
              "      <th>tweet</th>\n",
              "    </tr>\n",
              "  </thead>\n",
              "  <tbody>\n",
              "    <tr>\n",
              "      <th>408251</th>\n",
              "      <td>0</td>\n",
              "      <td>2059364084</td>\n",
              "      <td>Sat Jun 06 16:47:03 PDT 2009</td>\n",
              "      <td>NO_QUERY</td>\n",
              "      <td>MrsAmarieB</td>\n",
              "      <td>my baby's growing up</td>\n",
              "    </tr>\n",
              "    <tr>\n",
              "      <th>1559739</th>\n",
              "      <td>1</td>\n",
              "      <td>2186151891</td>\n",
              "      <td>Mon Jun 15 18:25:49 PDT 2009</td>\n",
              "      <td>NO_QUERY</td>\n",
              "      <td>epallaviccini</td>\n",
              "      <td>Painted Black-Rolling Stones..the best!</td>\n",
              "    </tr>\n",
              "    <tr>\n",
              "      <th>571248</th>\n",
              "      <td>0</td>\n",
              "      <td>2208723981</td>\n",
              "      <td>Wed Jun 17 09:33:02 PDT 2009</td>\n",
              "      <td>NO_QUERY</td>\n",
              "      <td>Kiwitabby</td>\n",
              "      <td>kk, i'm logging off now  BYEZZ!</td>\n",
              "    </tr>\n",
              "    <tr>\n",
              "      <th>524639</th>\n",
              "      <td>0</td>\n",
              "      <td>2193564503</td>\n",
              "      <td>Tue Jun 16 08:37:46 PDT 2009</td>\n",
              "      <td>NO_QUERY</td>\n",
              "      <td>annaqui</td>\n",
              "      <td>Shitty shitty shitty news today</td>\n",
              "    </tr>\n",
              "    <tr>\n",
              "      <th>311150</th>\n",
              "      <td>0</td>\n",
              "      <td>2001240587</td>\n",
              "      <td>Tue Jun 02 00:15:30 PDT 2009</td>\n",
              "      <td>NO_QUERY</td>\n",
              "      <td>smellyocheese</td>\n",
              "      <td>@Askmewhats * hugs* what's wrong?</td>\n",
              "    </tr>\n",
              "    <tr>\n",
              "      <th>...</th>\n",
              "      <td>...</td>\n",
              "      <td>...</td>\n",
              "      <td>...</td>\n",
              "      <td>...</td>\n",
              "      <td>...</td>\n",
              "      <td>...</td>\n",
              "    </tr>\n",
              "    <tr>\n",
              "      <th>654734</th>\n",
              "      <td>0</td>\n",
              "      <td>2239581310</td>\n",
              "      <td>Fri Jun 19 08:43:05 PDT 2009</td>\n",
              "      <td>NO_QUERY</td>\n",
              "      <td>RememberBataan</td>\n",
              "      <td>obviously not going to have time for the gym t...</td>\n",
              "    </tr>\n",
              "    <tr>\n",
              "      <th>751053</th>\n",
              "      <td>0</td>\n",
              "      <td>2285902061</td>\n",
              "      <td>Mon Jun 22 15:44:05 PDT 2009</td>\n",
              "      <td>NO_QUERY</td>\n",
              "      <td>deepoffenberger</td>\n",
              "      <td>waiting to hear from the vet about hymie</td>\n",
              "    </tr>\n",
              "    <tr>\n",
              "      <th>772903</th>\n",
              "      <td>0</td>\n",
              "      <td>2302962179</td>\n",
              "      <td>Tue Jun 23 17:32:15 PDT 2009</td>\n",
              "      <td>NO_QUERY</td>\n",
              "      <td>Bridgett26</td>\n",
              "      <td>so disappointed about dinner...bad veggie lo m...</td>\n",
              "    </tr>\n",
              "    <tr>\n",
              "      <th>1535977</th>\n",
              "      <td>1</td>\n",
              "      <td>2179155023</td>\n",
              "      <td>Mon Jun 15 08:43:15 PDT 2009</td>\n",
              "      <td>NO_QUERY</td>\n",
              "      <td>role_model</td>\n",
              "      <td>@simpleplan i'm going!  see you guys in 4 days...</td>\n",
              "    </tr>\n",
              "    <tr>\n",
              "      <th>239874</th>\n",
              "      <td>0</td>\n",
              "      <td>1980712761</td>\n",
              "      <td>Sun May 31 07:28:59 PDT 2009</td>\n",
              "      <td>NO_QUERY</td>\n",
              "      <td>maimunaibrahim</td>\n",
              "      <td>mathsrevisionmathsrevisionmathsrevision. i'm d...</td>\n",
              "    </tr>\n",
              "  </tbody>\n",
              "</table>\n",
              "<p>999 rows × 6 columns</p>\n",
              "</div>\n",
              "      <button class=\"colab-df-convert\" onclick=\"convertToInteractive('df-1a6fcd48-f43f-4977-a27c-b9e054c923f0')\"\n",
              "              title=\"Convert this dataframe to an interactive table.\"\n",
              "              style=\"display:none;\">\n",
              "        \n",
              "  <svg xmlns=\"http://www.w3.org/2000/svg\" height=\"24px\"viewBox=\"0 0 24 24\"\n",
              "       width=\"24px\">\n",
              "    <path d=\"M0 0h24v24H0V0z\" fill=\"none\"/>\n",
              "    <path d=\"M18.56 5.44l.94 2.06.94-2.06 2.06-.94-2.06-.94-.94-2.06-.94 2.06-2.06.94zm-11 1L8.5 8.5l.94-2.06 2.06-.94-2.06-.94L8.5 2.5l-.94 2.06-2.06.94zm10 10l.94 2.06.94-2.06 2.06-.94-2.06-.94-.94-2.06-.94 2.06-2.06.94z\"/><path d=\"M17.41 7.96l-1.37-1.37c-.4-.4-.92-.59-1.43-.59-.52 0-1.04.2-1.43.59L10.3 9.45l-7.72 7.72c-.78.78-.78 2.05 0 2.83L4 21.41c.39.39.9.59 1.41.59.51 0 1.02-.2 1.41-.59l7.78-7.78 2.81-2.81c.8-.78.8-2.07 0-2.86zM5.41 20L4 18.59l7.72-7.72 1.47 1.35L5.41 20z\"/>\n",
              "  </svg>\n",
              "      </button>\n",
              "      \n",
              "  <style>\n",
              "    .colab-df-container {\n",
              "      display:flex;\n",
              "      flex-wrap:wrap;\n",
              "      gap: 12px;\n",
              "    }\n",
              "\n",
              "    .colab-df-convert {\n",
              "      background-color: #E8F0FE;\n",
              "      border: none;\n",
              "      border-radius: 50%;\n",
              "      cursor: pointer;\n",
              "      display: none;\n",
              "      fill: #1967D2;\n",
              "      height: 32px;\n",
              "      padding: 0 0 0 0;\n",
              "      width: 32px;\n",
              "    }\n",
              "\n",
              "    .colab-df-convert:hover {\n",
              "      background-color: #E2EBFA;\n",
              "      box-shadow: 0px 1px 2px rgba(60, 64, 67, 0.3), 0px 1px 3px 1px rgba(60, 64, 67, 0.15);\n",
              "      fill: #174EA6;\n",
              "    }\n",
              "\n",
              "    [theme=dark] .colab-df-convert {\n",
              "      background-color: #3B4455;\n",
              "      fill: #D2E3FC;\n",
              "    }\n",
              "\n",
              "    [theme=dark] .colab-df-convert:hover {\n",
              "      background-color: #434B5C;\n",
              "      box-shadow: 0px 1px 3px 1px rgba(0, 0, 0, 0.15);\n",
              "      filter: drop-shadow(0px 1px 2px rgba(0, 0, 0, 0.3));\n",
              "      fill: #FFFFFF;\n",
              "    }\n",
              "  </style>\n",
              "\n",
              "      <script>\n",
              "        const buttonEl =\n",
              "          document.querySelector('#df-1a6fcd48-f43f-4977-a27c-b9e054c923f0 button.colab-df-convert');\n",
              "        buttonEl.style.display =\n",
              "          google.colab.kernel.accessAllowed ? 'block' : 'none';\n",
              "\n",
              "        async function convertToInteractive(key) {\n",
              "          const element = document.querySelector('#df-1a6fcd48-f43f-4977-a27c-b9e054c923f0');\n",
              "          const dataTable =\n",
              "            await google.colab.kernel.invokeFunction('convertToInteractive',\n",
              "                                                     [key], {});\n",
              "          if (!dataTable) return;\n",
              "\n",
              "          const docLinkHtml = 'Like what you see? Visit the ' +\n",
              "            '<a target=\"_blank\" href=https://colab.research.google.com/notebooks/data_table.ipynb>data table notebook</a>'\n",
              "            + ' to learn more about interactive tables.';\n",
              "          element.innerHTML = '';\n",
              "          dataTable['output_type'] = 'display_data';\n",
              "          await google.colab.output.renderOutput(dataTable, element);\n",
              "          const docLink = document.createElement('div');\n",
              "          docLink.innerHTML = docLinkHtml;\n",
              "          element.appendChild(docLink);\n",
              "        }\n",
              "      </script>\n",
              "    </div>\n",
              "  </div>\n",
              "  "
            ]
          },
          "metadata": {},
          "execution_count": 25
        }
      ]
    },
    {
      "cell_type": "code",
      "source": [
        "test_df"
      ],
      "metadata": {
        "colab": {
          "base_uri": "https://localhost:8080/",
          "height": 424
        },
        "id": "xPURAWVM-3px",
        "outputId": "80db4ee2-b403-400c-b52b-4d5266dbfbd4"
      },
      "execution_count": 26,
      "outputs": [
        {
          "output_type": "execute_result",
          "data": {
            "text/plain": [
              "     polarity     id                          date    query             user  \\\n",
              "0           4      3  Mon May 11 03:17:40 UTC 2009  kindle2           tpryan   \n",
              "1           4      4  Mon May 11 03:18:03 UTC 2009  kindle2           vcu451   \n",
              "2           4      5  Mon May 11 03:18:54 UTC 2009  kindle2           chadfu   \n",
              "3           4      6  Mon May 11 03:19:04 UTC 2009  kindle2            SIX15   \n",
              "4           4      7  Mon May 11 03:21:41 UTC 2009  kindle2         yamarama   \n",
              "..        ...    ...                           ...      ...              ...   \n",
              "493         2  14072  Sun Jun 14 04:31:43 UTC 2009    latex          proggit   \n",
              "494         0  14073  Sun Jun 14 04:32:17 UTC 2009    latex           sam33r   \n",
              "495         4  14074  Sun Jun 14 04:36:34 UTC 2009    latex  iamtheonlyjosie   \n",
              "496         0  14075  Sun Jun 14 21:36:07 UTC 2009     iran        plutopup7   \n",
              "497         0  14076  Sun Jun 14 21:36:17 UTC 2009     iran     captain_pete   \n",
              "\n",
              "                                                 tweet  \n",
              "0    @stellargirl I loooooooovvvvvveee my Kindle2. ...  \n",
              "1    Reading my kindle2...  Love it... Lee childs i...  \n",
              "2    Ok, first assesment of the #kindle2 ...it fuck...  \n",
              "3    @kenburbary You'll love your Kindle2. I've had...  \n",
              "4    @mikefish  Fair enough. But i have the Kindle2...  \n",
              "..                                                 ...  \n",
              "493  Ask Programming: LaTeX or InDesign?: submitted...  \n",
              "494  On that note, I hate Word. I hate Pages. I hat...  \n",
              "495  Ahhh... back in a *real* text editing environm...  \n",
              "496  Trouble in Iran, I see. Hmm. Iran. Iran so far...  \n",
              "497  Reading the tweets coming out of Iran... The w...  \n",
              "\n",
              "[498 rows x 6 columns]"
            ],
            "text/html": [
              "\n",
              "  <div id=\"df-97acd636-5b5c-43da-83f8-eff700272724\">\n",
              "    <div class=\"colab-df-container\">\n",
              "      <div>\n",
              "<style scoped>\n",
              "    .dataframe tbody tr th:only-of-type {\n",
              "        vertical-align: middle;\n",
              "    }\n",
              "\n",
              "    .dataframe tbody tr th {\n",
              "        vertical-align: top;\n",
              "    }\n",
              "\n",
              "    .dataframe thead th {\n",
              "        text-align: right;\n",
              "    }\n",
              "</style>\n",
              "<table border=\"1\" class=\"dataframe\">\n",
              "  <thead>\n",
              "    <tr style=\"text-align: right;\">\n",
              "      <th></th>\n",
              "      <th>polarity</th>\n",
              "      <th>id</th>\n",
              "      <th>date</th>\n",
              "      <th>query</th>\n",
              "      <th>user</th>\n",
              "      <th>tweet</th>\n",
              "    </tr>\n",
              "  </thead>\n",
              "  <tbody>\n",
              "    <tr>\n",
              "      <th>0</th>\n",
              "      <td>4</td>\n",
              "      <td>3</td>\n",
              "      <td>Mon May 11 03:17:40 UTC 2009</td>\n",
              "      <td>kindle2</td>\n",
              "      <td>tpryan</td>\n",
              "      <td>@stellargirl I loooooooovvvvvveee my Kindle2. ...</td>\n",
              "    </tr>\n",
              "    <tr>\n",
              "      <th>1</th>\n",
              "      <td>4</td>\n",
              "      <td>4</td>\n",
              "      <td>Mon May 11 03:18:03 UTC 2009</td>\n",
              "      <td>kindle2</td>\n",
              "      <td>vcu451</td>\n",
              "      <td>Reading my kindle2...  Love it... Lee childs i...</td>\n",
              "    </tr>\n",
              "    <tr>\n",
              "      <th>2</th>\n",
              "      <td>4</td>\n",
              "      <td>5</td>\n",
              "      <td>Mon May 11 03:18:54 UTC 2009</td>\n",
              "      <td>kindle2</td>\n",
              "      <td>chadfu</td>\n",
              "      <td>Ok, first assesment of the #kindle2 ...it fuck...</td>\n",
              "    </tr>\n",
              "    <tr>\n",
              "      <th>3</th>\n",
              "      <td>4</td>\n",
              "      <td>6</td>\n",
              "      <td>Mon May 11 03:19:04 UTC 2009</td>\n",
              "      <td>kindle2</td>\n",
              "      <td>SIX15</td>\n",
              "      <td>@kenburbary You'll love your Kindle2. I've had...</td>\n",
              "    </tr>\n",
              "    <tr>\n",
              "      <th>4</th>\n",
              "      <td>4</td>\n",
              "      <td>7</td>\n",
              "      <td>Mon May 11 03:21:41 UTC 2009</td>\n",
              "      <td>kindle2</td>\n",
              "      <td>yamarama</td>\n",
              "      <td>@mikefish  Fair enough. But i have the Kindle2...</td>\n",
              "    </tr>\n",
              "    <tr>\n",
              "      <th>...</th>\n",
              "      <td>...</td>\n",
              "      <td>...</td>\n",
              "      <td>...</td>\n",
              "      <td>...</td>\n",
              "      <td>...</td>\n",
              "      <td>...</td>\n",
              "    </tr>\n",
              "    <tr>\n",
              "      <th>493</th>\n",
              "      <td>2</td>\n",
              "      <td>14072</td>\n",
              "      <td>Sun Jun 14 04:31:43 UTC 2009</td>\n",
              "      <td>latex</td>\n",
              "      <td>proggit</td>\n",
              "      <td>Ask Programming: LaTeX or InDesign?: submitted...</td>\n",
              "    </tr>\n",
              "    <tr>\n",
              "      <th>494</th>\n",
              "      <td>0</td>\n",
              "      <td>14073</td>\n",
              "      <td>Sun Jun 14 04:32:17 UTC 2009</td>\n",
              "      <td>latex</td>\n",
              "      <td>sam33r</td>\n",
              "      <td>On that note, I hate Word. I hate Pages. I hat...</td>\n",
              "    </tr>\n",
              "    <tr>\n",
              "      <th>495</th>\n",
              "      <td>4</td>\n",
              "      <td>14074</td>\n",
              "      <td>Sun Jun 14 04:36:34 UTC 2009</td>\n",
              "      <td>latex</td>\n",
              "      <td>iamtheonlyjosie</td>\n",
              "      <td>Ahhh... back in a *real* text editing environm...</td>\n",
              "    </tr>\n",
              "    <tr>\n",
              "      <th>496</th>\n",
              "      <td>0</td>\n",
              "      <td>14075</td>\n",
              "      <td>Sun Jun 14 21:36:07 UTC 2009</td>\n",
              "      <td>iran</td>\n",
              "      <td>plutopup7</td>\n",
              "      <td>Trouble in Iran, I see. Hmm. Iran. Iran so far...</td>\n",
              "    </tr>\n",
              "    <tr>\n",
              "      <th>497</th>\n",
              "      <td>0</td>\n",
              "      <td>14076</td>\n",
              "      <td>Sun Jun 14 21:36:17 UTC 2009</td>\n",
              "      <td>iran</td>\n",
              "      <td>captain_pete</td>\n",
              "      <td>Reading the tweets coming out of Iran... The w...</td>\n",
              "    </tr>\n",
              "  </tbody>\n",
              "</table>\n",
              "<p>498 rows × 6 columns</p>\n",
              "</div>\n",
              "      <button class=\"colab-df-convert\" onclick=\"convertToInteractive('df-97acd636-5b5c-43da-83f8-eff700272724')\"\n",
              "              title=\"Convert this dataframe to an interactive table.\"\n",
              "              style=\"display:none;\">\n",
              "        \n",
              "  <svg xmlns=\"http://www.w3.org/2000/svg\" height=\"24px\"viewBox=\"0 0 24 24\"\n",
              "       width=\"24px\">\n",
              "    <path d=\"M0 0h24v24H0V0z\" fill=\"none\"/>\n",
              "    <path d=\"M18.56 5.44l.94 2.06.94-2.06 2.06-.94-2.06-.94-.94-2.06-.94 2.06-2.06.94zm-11 1L8.5 8.5l.94-2.06 2.06-.94-2.06-.94L8.5 2.5l-.94 2.06-2.06.94zm10 10l.94 2.06.94-2.06 2.06-.94-2.06-.94-.94-2.06-.94 2.06-2.06.94z\"/><path d=\"M17.41 7.96l-1.37-1.37c-.4-.4-.92-.59-1.43-.59-.52 0-1.04.2-1.43.59L10.3 9.45l-7.72 7.72c-.78.78-.78 2.05 0 2.83L4 21.41c.39.39.9.59 1.41.59.51 0 1.02-.2 1.41-.59l7.78-7.78 2.81-2.81c.8-.78.8-2.07 0-2.86zM5.41 20L4 18.59l7.72-7.72 1.47 1.35L5.41 20z\"/>\n",
              "  </svg>\n",
              "      </button>\n",
              "      \n",
              "  <style>\n",
              "    .colab-df-container {\n",
              "      display:flex;\n",
              "      flex-wrap:wrap;\n",
              "      gap: 12px;\n",
              "    }\n",
              "\n",
              "    .colab-df-convert {\n",
              "      background-color: #E8F0FE;\n",
              "      border: none;\n",
              "      border-radius: 50%;\n",
              "      cursor: pointer;\n",
              "      display: none;\n",
              "      fill: #1967D2;\n",
              "      height: 32px;\n",
              "      padding: 0 0 0 0;\n",
              "      width: 32px;\n",
              "    }\n",
              "\n",
              "    .colab-df-convert:hover {\n",
              "      background-color: #E2EBFA;\n",
              "      box-shadow: 0px 1px 2px rgba(60, 64, 67, 0.3), 0px 1px 3px 1px rgba(60, 64, 67, 0.15);\n",
              "      fill: #174EA6;\n",
              "    }\n",
              "\n",
              "    [theme=dark] .colab-df-convert {\n",
              "      background-color: #3B4455;\n",
              "      fill: #D2E3FC;\n",
              "    }\n",
              "\n",
              "    [theme=dark] .colab-df-convert:hover {\n",
              "      background-color: #434B5C;\n",
              "      box-shadow: 0px 1px 3px 1px rgba(0, 0, 0, 0.15);\n",
              "      filter: drop-shadow(0px 1px 2px rgba(0, 0, 0, 0.3));\n",
              "      fill: #FFFFFF;\n",
              "    }\n",
              "  </style>\n",
              "\n",
              "      <script>\n",
              "        const buttonEl =\n",
              "          document.querySelector('#df-97acd636-5b5c-43da-83f8-eff700272724 button.colab-df-convert');\n",
              "        buttonEl.style.display =\n",
              "          google.colab.kernel.accessAllowed ? 'block' : 'none';\n",
              "\n",
              "        async function convertToInteractive(key) {\n",
              "          const element = document.querySelector('#df-97acd636-5b5c-43da-83f8-eff700272724');\n",
              "          const dataTable =\n",
              "            await google.colab.kernel.invokeFunction('convertToInteractive',\n",
              "                                                     [key], {});\n",
              "          if (!dataTable) return;\n",
              "\n",
              "          const docLinkHtml = 'Like what you see? Visit the ' +\n",
              "            '<a target=\"_blank\" href=https://colab.research.google.com/notebooks/data_table.ipynb>data table notebook</a>'\n",
              "            + ' to learn more about interactive tables.';\n",
              "          element.innerHTML = '';\n",
              "          dataTable['output_type'] = 'display_data';\n",
              "          await google.colab.output.renderOutput(dataTable, element);\n",
              "          const docLink = document.createElement('div');\n",
              "          docLink.innerHTML = docLinkHtml;\n",
              "          element.appendChild(docLink);\n",
              "        }\n",
              "      </script>\n",
              "    </div>\n",
              "  </div>\n",
              "  "
            ]
          },
          "metadata": {},
          "execution_count": 26
        }
      ]
    },
    {
      "cell_type": "code",
      "source": [
        "test_df['polarity'] = test_df['polarity'].replace(2,1)\n",
        "test_df"
      ],
      "metadata": {
        "colab": {
          "base_uri": "https://localhost:8080/",
          "height": 424
        },
        "id": "3gRW8xqU-3va",
        "outputId": "6c6a3d1b-96fd-45d1-b95e-f100429d959a"
      },
      "execution_count": 27,
      "outputs": [
        {
          "output_type": "execute_result",
          "data": {
            "text/plain": [
              "     polarity     id                          date    query             user  \\\n",
              "0           4      3  Mon May 11 03:17:40 UTC 2009  kindle2           tpryan   \n",
              "1           4      4  Mon May 11 03:18:03 UTC 2009  kindle2           vcu451   \n",
              "2           4      5  Mon May 11 03:18:54 UTC 2009  kindle2           chadfu   \n",
              "3           4      6  Mon May 11 03:19:04 UTC 2009  kindle2            SIX15   \n",
              "4           4      7  Mon May 11 03:21:41 UTC 2009  kindle2         yamarama   \n",
              "..        ...    ...                           ...      ...              ...   \n",
              "493         1  14072  Sun Jun 14 04:31:43 UTC 2009    latex          proggit   \n",
              "494         0  14073  Sun Jun 14 04:32:17 UTC 2009    latex           sam33r   \n",
              "495         4  14074  Sun Jun 14 04:36:34 UTC 2009    latex  iamtheonlyjosie   \n",
              "496         0  14075  Sun Jun 14 21:36:07 UTC 2009     iran        plutopup7   \n",
              "497         0  14076  Sun Jun 14 21:36:17 UTC 2009     iran     captain_pete   \n",
              "\n",
              "                                                 tweet  \n",
              "0    @stellargirl I loooooooovvvvvveee my Kindle2. ...  \n",
              "1    Reading my kindle2...  Love it... Lee childs i...  \n",
              "2    Ok, first assesment of the #kindle2 ...it fuck...  \n",
              "3    @kenburbary You'll love your Kindle2. I've had...  \n",
              "4    @mikefish  Fair enough. But i have the Kindle2...  \n",
              "..                                                 ...  \n",
              "493  Ask Programming: LaTeX or InDesign?: submitted...  \n",
              "494  On that note, I hate Word. I hate Pages. I hat...  \n",
              "495  Ahhh... back in a *real* text editing environm...  \n",
              "496  Trouble in Iran, I see. Hmm. Iran. Iran so far...  \n",
              "497  Reading the tweets coming out of Iran... The w...  \n",
              "\n",
              "[498 rows x 6 columns]"
            ],
            "text/html": [
              "\n",
              "  <div id=\"df-2df14a40-a61b-4a42-b4f0-f9fff2ad0bb6\">\n",
              "    <div class=\"colab-df-container\">\n",
              "      <div>\n",
              "<style scoped>\n",
              "    .dataframe tbody tr th:only-of-type {\n",
              "        vertical-align: middle;\n",
              "    }\n",
              "\n",
              "    .dataframe tbody tr th {\n",
              "        vertical-align: top;\n",
              "    }\n",
              "\n",
              "    .dataframe thead th {\n",
              "        text-align: right;\n",
              "    }\n",
              "</style>\n",
              "<table border=\"1\" class=\"dataframe\">\n",
              "  <thead>\n",
              "    <tr style=\"text-align: right;\">\n",
              "      <th></th>\n",
              "      <th>polarity</th>\n",
              "      <th>id</th>\n",
              "      <th>date</th>\n",
              "      <th>query</th>\n",
              "      <th>user</th>\n",
              "      <th>tweet</th>\n",
              "    </tr>\n",
              "  </thead>\n",
              "  <tbody>\n",
              "    <tr>\n",
              "      <th>0</th>\n",
              "      <td>4</td>\n",
              "      <td>3</td>\n",
              "      <td>Mon May 11 03:17:40 UTC 2009</td>\n",
              "      <td>kindle2</td>\n",
              "      <td>tpryan</td>\n",
              "      <td>@stellargirl I loooooooovvvvvveee my Kindle2. ...</td>\n",
              "    </tr>\n",
              "    <tr>\n",
              "      <th>1</th>\n",
              "      <td>4</td>\n",
              "      <td>4</td>\n",
              "      <td>Mon May 11 03:18:03 UTC 2009</td>\n",
              "      <td>kindle2</td>\n",
              "      <td>vcu451</td>\n",
              "      <td>Reading my kindle2...  Love it... Lee childs i...</td>\n",
              "    </tr>\n",
              "    <tr>\n",
              "      <th>2</th>\n",
              "      <td>4</td>\n",
              "      <td>5</td>\n",
              "      <td>Mon May 11 03:18:54 UTC 2009</td>\n",
              "      <td>kindle2</td>\n",
              "      <td>chadfu</td>\n",
              "      <td>Ok, first assesment of the #kindle2 ...it fuck...</td>\n",
              "    </tr>\n",
              "    <tr>\n",
              "      <th>3</th>\n",
              "      <td>4</td>\n",
              "      <td>6</td>\n",
              "      <td>Mon May 11 03:19:04 UTC 2009</td>\n",
              "      <td>kindle2</td>\n",
              "      <td>SIX15</td>\n",
              "      <td>@kenburbary You'll love your Kindle2. I've had...</td>\n",
              "    </tr>\n",
              "    <tr>\n",
              "      <th>4</th>\n",
              "      <td>4</td>\n",
              "      <td>7</td>\n",
              "      <td>Mon May 11 03:21:41 UTC 2009</td>\n",
              "      <td>kindle2</td>\n",
              "      <td>yamarama</td>\n",
              "      <td>@mikefish  Fair enough. But i have the Kindle2...</td>\n",
              "    </tr>\n",
              "    <tr>\n",
              "      <th>...</th>\n",
              "      <td>...</td>\n",
              "      <td>...</td>\n",
              "      <td>...</td>\n",
              "      <td>...</td>\n",
              "      <td>...</td>\n",
              "      <td>...</td>\n",
              "    </tr>\n",
              "    <tr>\n",
              "      <th>493</th>\n",
              "      <td>1</td>\n",
              "      <td>14072</td>\n",
              "      <td>Sun Jun 14 04:31:43 UTC 2009</td>\n",
              "      <td>latex</td>\n",
              "      <td>proggit</td>\n",
              "      <td>Ask Programming: LaTeX or InDesign?: submitted...</td>\n",
              "    </tr>\n",
              "    <tr>\n",
              "      <th>494</th>\n",
              "      <td>0</td>\n",
              "      <td>14073</td>\n",
              "      <td>Sun Jun 14 04:32:17 UTC 2009</td>\n",
              "      <td>latex</td>\n",
              "      <td>sam33r</td>\n",
              "      <td>On that note, I hate Word. I hate Pages. I hat...</td>\n",
              "    </tr>\n",
              "    <tr>\n",
              "      <th>495</th>\n",
              "      <td>4</td>\n",
              "      <td>14074</td>\n",
              "      <td>Sun Jun 14 04:36:34 UTC 2009</td>\n",
              "      <td>latex</td>\n",
              "      <td>iamtheonlyjosie</td>\n",
              "      <td>Ahhh... back in a *real* text editing environm...</td>\n",
              "    </tr>\n",
              "    <tr>\n",
              "      <th>496</th>\n",
              "      <td>0</td>\n",
              "      <td>14075</td>\n",
              "      <td>Sun Jun 14 21:36:07 UTC 2009</td>\n",
              "      <td>iran</td>\n",
              "      <td>plutopup7</td>\n",
              "      <td>Trouble in Iran, I see. Hmm. Iran. Iran so far...</td>\n",
              "    </tr>\n",
              "    <tr>\n",
              "      <th>497</th>\n",
              "      <td>0</td>\n",
              "      <td>14076</td>\n",
              "      <td>Sun Jun 14 21:36:17 UTC 2009</td>\n",
              "      <td>iran</td>\n",
              "      <td>captain_pete</td>\n",
              "      <td>Reading the tweets coming out of Iran... The w...</td>\n",
              "    </tr>\n",
              "  </tbody>\n",
              "</table>\n",
              "<p>498 rows × 6 columns</p>\n",
              "</div>\n",
              "      <button class=\"colab-df-convert\" onclick=\"convertToInteractive('df-2df14a40-a61b-4a42-b4f0-f9fff2ad0bb6')\"\n",
              "              title=\"Convert this dataframe to an interactive table.\"\n",
              "              style=\"display:none;\">\n",
              "        \n",
              "  <svg xmlns=\"http://www.w3.org/2000/svg\" height=\"24px\"viewBox=\"0 0 24 24\"\n",
              "       width=\"24px\">\n",
              "    <path d=\"M0 0h24v24H0V0z\" fill=\"none\"/>\n",
              "    <path d=\"M18.56 5.44l.94 2.06.94-2.06 2.06-.94-2.06-.94-.94-2.06-.94 2.06-2.06.94zm-11 1L8.5 8.5l.94-2.06 2.06-.94-2.06-.94L8.5 2.5l-.94 2.06-2.06.94zm10 10l.94 2.06.94-2.06 2.06-.94-2.06-.94-.94-2.06-.94 2.06-2.06.94z\"/><path d=\"M17.41 7.96l-1.37-1.37c-.4-.4-.92-.59-1.43-.59-.52 0-1.04.2-1.43.59L10.3 9.45l-7.72 7.72c-.78.78-.78 2.05 0 2.83L4 21.41c.39.39.9.59 1.41.59.51 0 1.02-.2 1.41-.59l7.78-7.78 2.81-2.81c.8-.78.8-2.07 0-2.86zM5.41 20L4 18.59l7.72-7.72 1.47 1.35L5.41 20z\"/>\n",
              "  </svg>\n",
              "      </button>\n",
              "      \n",
              "  <style>\n",
              "    .colab-df-container {\n",
              "      display:flex;\n",
              "      flex-wrap:wrap;\n",
              "      gap: 12px;\n",
              "    }\n",
              "\n",
              "    .colab-df-convert {\n",
              "      background-color: #E8F0FE;\n",
              "      border: none;\n",
              "      border-radius: 50%;\n",
              "      cursor: pointer;\n",
              "      display: none;\n",
              "      fill: #1967D2;\n",
              "      height: 32px;\n",
              "      padding: 0 0 0 0;\n",
              "      width: 32px;\n",
              "    }\n",
              "\n",
              "    .colab-df-convert:hover {\n",
              "      background-color: #E2EBFA;\n",
              "      box-shadow: 0px 1px 2px rgba(60, 64, 67, 0.3), 0px 1px 3px 1px rgba(60, 64, 67, 0.15);\n",
              "      fill: #174EA6;\n",
              "    }\n",
              "\n",
              "    [theme=dark] .colab-df-convert {\n",
              "      background-color: #3B4455;\n",
              "      fill: #D2E3FC;\n",
              "    }\n",
              "\n",
              "    [theme=dark] .colab-df-convert:hover {\n",
              "      background-color: #434B5C;\n",
              "      box-shadow: 0px 1px 3px 1px rgba(0, 0, 0, 0.15);\n",
              "      filter: drop-shadow(0px 1px 2px rgba(0, 0, 0, 0.3));\n",
              "      fill: #FFFFFF;\n",
              "    }\n",
              "  </style>\n",
              "\n",
              "      <script>\n",
              "        const buttonEl =\n",
              "          document.querySelector('#df-2df14a40-a61b-4a42-b4f0-f9fff2ad0bb6 button.colab-df-convert');\n",
              "        buttonEl.style.display =\n",
              "          google.colab.kernel.accessAllowed ? 'block' : 'none';\n",
              "\n",
              "        async function convertToInteractive(key) {\n",
              "          const element = document.querySelector('#df-2df14a40-a61b-4a42-b4f0-f9fff2ad0bb6');\n",
              "          const dataTable =\n",
              "            await google.colab.kernel.invokeFunction('convertToInteractive',\n",
              "                                                     [key], {});\n",
              "          if (!dataTable) return;\n",
              "\n",
              "          const docLinkHtml = 'Like what you see? Visit the ' +\n",
              "            '<a target=\"_blank\" href=https://colab.research.google.com/notebooks/data_table.ipynb>data table notebook</a>'\n",
              "            + ' to learn more about interactive tables.';\n",
              "          element.innerHTML = '';\n",
              "          dataTable['output_type'] = 'display_data';\n",
              "          await google.colab.output.renderOutput(dataTable, element);\n",
              "          const docLink = document.createElement('div');\n",
              "          docLink.innerHTML = docLinkHtml;\n",
              "          element.appendChild(docLink);\n",
              "        }\n",
              "      </script>\n",
              "    </div>\n",
              "  </div>\n",
              "  "
            ]
          },
          "metadata": {},
          "execution_count": 27
        }
      ]
    },
    {
      "cell_type": "code",
      "source": [
        "test_df['polarity'] = test_df['polarity'].replace(4,1)\n",
        "test_df"
      ],
      "metadata": {
        "colab": {
          "base_uri": "https://localhost:8080/",
          "height": 424
        },
        "id": "MQB0WQLv-6lM",
        "outputId": "a6c18dfb-91db-45f9-e616-2545aa8dfc85"
      },
      "execution_count": 28,
      "outputs": [
        {
          "output_type": "execute_result",
          "data": {
            "text/plain": [
              "     polarity     id                          date    query             user  \\\n",
              "0           1      3  Mon May 11 03:17:40 UTC 2009  kindle2           tpryan   \n",
              "1           1      4  Mon May 11 03:18:03 UTC 2009  kindle2           vcu451   \n",
              "2           1      5  Mon May 11 03:18:54 UTC 2009  kindle2           chadfu   \n",
              "3           1      6  Mon May 11 03:19:04 UTC 2009  kindle2            SIX15   \n",
              "4           1      7  Mon May 11 03:21:41 UTC 2009  kindle2         yamarama   \n",
              "..        ...    ...                           ...      ...              ...   \n",
              "493         1  14072  Sun Jun 14 04:31:43 UTC 2009    latex          proggit   \n",
              "494         0  14073  Sun Jun 14 04:32:17 UTC 2009    latex           sam33r   \n",
              "495         1  14074  Sun Jun 14 04:36:34 UTC 2009    latex  iamtheonlyjosie   \n",
              "496         0  14075  Sun Jun 14 21:36:07 UTC 2009     iran        plutopup7   \n",
              "497         0  14076  Sun Jun 14 21:36:17 UTC 2009     iran     captain_pete   \n",
              "\n",
              "                                                 tweet  \n",
              "0    @stellargirl I loooooooovvvvvveee my Kindle2. ...  \n",
              "1    Reading my kindle2...  Love it... Lee childs i...  \n",
              "2    Ok, first assesment of the #kindle2 ...it fuck...  \n",
              "3    @kenburbary You'll love your Kindle2. I've had...  \n",
              "4    @mikefish  Fair enough. But i have the Kindle2...  \n",
              "..                                                 ...  \n",
              "493  Ask Programming: LaTeX or InDesign?: submitted...  \n",
              "494  On that note, I hate Word. I hate Pages. I hat...  \n",
              "495  Ahhh... back in a *real* text editing environm...  \n",
              "496  Trouble in Iran, I see. Hmm. Iran. Iran so far...  \n",
              "497  Reading the tweets coming out of Iran... The w...  \n",
              "\n",
              "[498 rows x 6 columns]"
            ],
            "text/html": [
              "\n",
              "  <div id=\"df-5e123651-9490-45d7-9a33-d017505ece2e\">\n",
              "    <div class=\"colab-df-container\">\n",
              "      <div>\n",
              "<style scoped>\n",
              "    .dataframe tbody tr th:only-of-type {\n",
              "        vertical-align: middle;\n",
              "    }\n",
              "\n",
              "    .dataframe tbody tr th {\n",
              "        vertical-align: top;\n",
              "    }\n",
              "\n",
              "    .dataframe thead th {\n",
              "        text-align: right;\n",
              "    }\n",
              "</style>\n",
              "<table border=\"1\" class=\"dataframe\">\n",
              "  <thead>\n",
              "    <tr style=\"text-align: right;\">\n",
              "      <th></th>\n",
              "      <th>polarity</th>\n",
              "      <th>id</th>\n",
              "      <th>date</th>\n",
              "      <th>query</th>\n",
              "      <th>user</th>\n",
              "      <th>tweet</th>\n",
              "    </tr>\n",
              "  </thead>\n",
              "  <tbody>\n",
              "    <tr>\n",
              "      <th>0</th>\n",
              "      <td>1</td>\n",
              "      <td>3</td>\n",
              "      <td>Mon May 11 03:17:40 UTC 2009</td>\n",
              "      <td>kindle2</td>\n",
              "      <td>tpryan</td>\n",
              "      <td>@stellargirl I loooooooovvvvvveee my Kindle2. ...</td>\n",
              "    </tr>\n",
              "    <tr>\n",
              "      <th>1</th>\n",
              "      <td>1</td>\n",
              "      <td>4</td>\n",
              "      <td>Mon May 11 03:18:03 UTC 2009</td>\n",
              "      <td>kindle2</td>\n",
              "      <td>vcu451</td>\n",
              "      <td>Reading my kindle2...  Love it... Lee childs i...</td>\n",
              "    </tr>\n",
              "    <tr>\n",
              "      <th>2</th>\n",
              "      <td>1</td>\n",
              "      <td>5</td>\n",
              "      <td>Mon May 11 03:18:54 UTC 2009</td>\n",
              "      <td>kindle2</td>\n",
              "      <td>chadfu</td>\n",
              "      <td>Ok, first assesment of the #kindle2 ...it fuck...</td>\n",
              "    </tr>\n",
              "    <tr>\n",
              "      <th>3</th>\n",
              "      <td>1</td>\n",
              "      <td>6</td>\n",
              "      <td>Mon May 11 03:19:04 UTC 2009</td>\n",
              "      <td>kindle2</td>\n",
              "      <td>SIX15</td>\n",
              "      <td>@kenburbary You'll love your Kindle2. I've had...</td>\n",
              "    </tr>\n",
              "    <tr>\n",
              "      <th>4</th>\n",
              "      <td>1</td>\n",
              "      <td>7</td>\n",
              "      <td>Mon May 11 03:21:41 UTC 2009</td>\n",
              "      <td>kindle2</td>\n",
              "      <td>yamarama</td>\n",
              "      <td>@mikefish  Fair enough. But i have the Kindle2...</td>\n",
              "    </tr>\n",
              "    <tr>\n",
              "      <th>...</th>\n",
              "      <td>...</td>\n",
              "      <td>...</td>\n",
              "      <td>...</td>\n",
              "      <td>...</td>\n",
              "      <td>...</td>\n",
              "      <td>...</td>\n",
              "    </tr>\n",
              "    <tr>\n",
              "      <th>493</th>\n",
              "      <td>1</td>\n",
              "      <td>14072</td>\n",
              "      <td>Sun Jun 14 04:31:43 UTC 2009</td>\n",
              "      <td>latex</td>\n",
              "      <td>proggit</td>\n",
              "      <td>Ask Programming: LaTeX or InDesign?: submitted...</td>\n",
              "    </tr>\n",
              "    <tr>\n",
              "      <th>494</th>\n",
              "      <td>0</td>\n",
              "      <td>14073</td>\n",
              "      <td>Sun Jun 14 04:32:17 UTC 2009</td>\n",
              "      <td>latex</td>\n",
              "      <td>sam33r</td>\n",
              "      <td>On that note, I hate Word. I hate Pages. I hat...</td>\n",
              "    </tr>\n",
              "    <tr>\n",
              "      <th>495</th>\n",
              "      <td>1</td>\n",
              "      <td>14074</td>\n",
              "      <td>Sun Jun 14 04:36:34 UTC 2009</td>\n",
              "      <td>latex</td>\n",
              "      <td>iamtheonlyjosie</td>\n",
              "      <td>Ahhh... back in a *real* text editing environm...</td>\n",
              "    </tr>\n",
              "    <tr>\n",
              "      <th>496</th>\n",
              "      <td>0</td>\n",
              "      <td>14075</td>\n",
              "      <td>Sun Jun 14 21:36:07 UTC 2009</td>\n",
              "      <td>iran</td>\n",
              "      <td>plutopup7</td>\n",
              "      <td>Trouble in Iran, I see. Hmm. Iran. Iran so far...</td>\n",
              "    </tr>\n",
              "    <tr>\n",
              "      <th>497</th>\n",
              "      <td>0</td>\n",
              "      <td>14076</td>\n",
              "      <td>Sun Jun 14 21:36:17 UTC 2009</td>\n",
              "      <td>iran</td>\n",
              "      <td>captain_pete</td>\n",
              "      <td>Reading the tweets coming out of Iran... The w...</td>\n",
              "    </tr>\n",
              "  </tbody>\n",
              "</table>\n",
              "<p>498 rows × 6 columns</p>\n",
              "</div>\n",
              "      <button class=\"colab-df-convert\" onclick=\"convertToInteractive('df-5e123651-9490-45d7-9a33-d017505ece2e')\"\n",
              "              title=\"Convert this dataframe to an interactive table.\"\n",
              "              style=\"display:none;\">\n",
              "        \n",
              "  <svg xmlns=\"http://www.w3.org/2000/svg\" height=\"24px\"viewBox=\"0 0 24 24\"\n",
              "       width=\"24px\">\n",
              "    <path d=\"M0 0h24v24H0V0z\" fill=\"none\"/>\n",
              "    <path d=\"M18.56 5.44l.94 2.06.94-2.06 2.06-.94-2.06-.94-.94-2.06-.94 2.06-2.06.94zm-11 1L8.5 8.5l.94-2.06 2.06-.94-2.06-.94L8.5 2.5l-.94 2.06-2.06.94zm10 10l.94 2.06.94-2.06 2.06-.94-2.06-.94-.94-2.06-.94 2.06-2.06.94z\"/><path d=\"M17.41 7.96l-1.37-1.37c-.4-.4-.92-.59-1.43-.59-.52 0-1.04.2-1.43.59L10.3 9.45l-7.72 7.72c-.78.78-.78 2.05 0 2.83L4 21.41c.39.39.9.59 1.41.59.51 0 1.02-.2 1.41-.59l7.78-7.78 2.81-2.81c.8-.78.8-2.07 0-2.86zM5.41 20L4 18.59l7.72-7.72 1.47 1.35L5.41 20z\"/>\n",
              "  </svg>\n",
              "      </button>\n",
              "      \n",
              "  <style>\n",
              "    .colab-df-container {\n",
              "      display:flex;\n",
              "      flex-wrap:wrap;\n",
              "      gap: 12px;\n",
              "    }\n",
              "\n",
              "    .colab-df-convert {\n",
              "      background-color: #E8F0FE;\n",
              "      border: none;\n",
              "      border-radius: 50%;\n",
              "      cursor: pointer;\n",
              "      display: none;\n",
              "      fill: #1967D2;\n",
              "      height: 32px;\n",
              "      padding: 0 0 0 0;\n",
              "      width: 32px;\n",
              "    }\n",
              "\n",
              "    .colab-df-convert:hover {\n",
              "      background-color: #E2EBFA;\n",
              "      box-shadow: 0px 1px 2px rgba(60, 64, 67, 0.3), 0px 1px 3px 1px rgba(60, 64, 67, 0.15);\n",
              "      fill: #174EA6;\n",
              "    }\n",
              "\n",
              "    [theme=dark] .colab-df-convert {\n",
              "      background-color: #3B4455;\n",
              "      fill: #D2E3FC;\n",
              "    }\n",
              "\n",
              "    [theme=dark] .colab-df-convert:hover {\n",
              "      background-color: #434B5C;\n",
              "      box-shadow: 0px 1px 3px 1px rgba(0, 0, 0, 0.15);\n",
              "      filter: drop-shadow(0px 1px 2px rgba(0, 0, 0, 0.3));\n",
              "      fill: #FFFFFF;\n",
              "    }\n",
              "  </style>\n",
              "\n",
              "      <script>\n",
              "        const buttonEl =\n",
              "          document.querySelector('#df-5e123651-9490-45d7-9a33-d017505ece2e button.colab-df-convert');\n",
              "        buttonEl.style.display =\n",
              "          google.colab.kernel.accessAllowed ? 'block' : 'none';\n",
              "\n",
              "        async function convertToInteractive(key) {\n",
              "          const element = document.querySelector('#df-5e123651-9490-45d7-9a33-d017505ece2e');\n",
              "          const dataTable =\n",
              "            await google.colab.kernel.invokeFunction('convertToInteractive',\n",
              "                                                     [key], {});\n",
              "          if (!dataTable) return;\n",
              "\n",
              "          const docLinkHtml = 'Like what you see? Visit the ' +\n",
              "            '<a target=\"_blank\" href=https://colab.research.google.com/notebooks/data_table.ipynb>data table notebook</a>'\n",
              "            + ' to learn more about interactive tables.';\n",
              "          element.innerHTML = '';\n",
              "          dataTable['output_type'] = 'display_data';\n",
              "          await google.colab.output.renderOutput(dataTable, element);\n",
              "          const docLink = document.createElement('div');\n",
              "          docLink.innerHTML = docLinkHtml;\n",
              "          element.appendChild(docLink);\n",
              "        }\n",
              "      </script>\n",
              "    </div>\n",
              "  </div>\n",
              "  "
            ]
          },
          "metadata": {},
          "execution_count": 28
        }
      ]
    },
    {
      "cell_type": "code",
      "source": [
        "X_train = train_df['tweet'].apply(lambda x: preprocess(x))"
      ],
      "metadata": {
        "id": "bczYAK_V-8h0"
      },
      "execution_count": 29,
      "outputs": []
    },
    {
      "cell_type": "code",
      "source": [
        "y_train = train_df['polarity']\n",
        "le = LabelEncoder()\n",
        "y = le.fit_transform(y_train)"
      ],
      "metadata": {
        "id": "cueXx1zb--LJ"
      },
      "execution_count": 30,
      "outputs": []
    },
    {
      "cell_type": "code",
      "source": [
        "X_test = test_df['tweet']\n",
        "y_test = test_df['polarity']"
      ],
      "metadata": {
        "id": "KG5CAwwJ-_rv"
      },
      "execution_count": 31,
      "outputs": []
    },
    {
      "cell_type": "code",
      "source": [
        "X_train_tf.shape, X_test.shape, y_train.shape, y_test.shape"
      ],
      "metadata": {
        "colab": {
          "base_uri": "https://localhost:8080/"
        },
        "id": "602Zwsff_CNj",
        "outputId": "d289ad8f-e408-4622-8a41-f3801699c064"
      },
      "execution_count": 32,
      "outputs": [
        {
          "output_type": "execute_result",
          "data": {
            "text/plain": [
              "((999, 100), (498,), (999,), (498,))"
            ]
          },
          "metadata": {},
          "execution_count": 32
        }
      ]
    },
    {
      "cell_type": "code",
      "source": [
        "tfidf = TfidfVectorizer(max_features = 100)\n",
        "X_train_tf = tfidf.fit_transform(X_train).toarray() \n",
        "X_test = tfidf.transform(X_test).toarray()"
      ],
      "metadata": {
        "id": "2jbgGi9BAcbM"
      },
      "execution_count": 41,
      "outputs": []
    },
    {
      "cell_type": "markdown",
      "source": [
        "**Logistic Regreession**"
      ],
      "metadata": {
        "id": "PSrLWtSC_Gpo"
      }
    },
    {
      "cell_type": "code",
      "source": [
        "lrr = LogisticRegression(random_state = 0)\n",
        "start_time = time.time()\n",
        "lrr.fit(X_train_tf, y_train) \n",
        "print(\"Execution Time:\", time.time()-start_time,\"secs\")"
      ],
      "metadata": {
        "colab": {
          "base_uri": "https://localhost:8080/"
        },
        "id": "Jc7nW32T_DdA",
        "outputId": "d861071b-3257-4be6-dfa6-afbb70045891"
      },
      "execution_count": 42,
      "outputs": [
        {
          "output_type": "stream",
          "name": "stdout",
          "text": [
            "Execution Time: 0.03624677658081055 secs\n"
          ]
        }
      ]
    },
    {
      "cell_type": "code",
      "source": [
        "y_pred_lrr = lrr.predict(X_test)\n",
        "print(\"Accuracy:\\n\", accuracy_score(y_test, y_pred_lrr))\n"
      ],
      "metadata": {
        "colab": {
          "base_uri": "https://localhost:8080/"
        },
        "id": "2ce54e7Z_ITP",
        "outputId": "c11e1e1e-8715-4e81-b89f-278847ca5827"
      },
      "execution_count": 43,
      "outputs": [
        {
          "output_type": "stream",
          "name": "stdout",
          "text": [
            "Accuracy:\n",
            " 0.6244979919678715\n"
          ]
        }
      ]
    },
    {
      "cell_type": "code",
      "source": [
        "from sklearn import metrics\n",
        "confusion_matrix = metrics.confusion_matrix(y_test, y_pred_lr)\n",
        "\n",
        "cm_display = metrics.ConfusionMatrixDisplay(confusion_matrix = confusion_matrix, display_labels = ['Negative','Positive'])\n",
        "cm_display.plot()"
      ],
      "metadata": {
        "colab": {
          "base_uri": "https://localhost:8080/",
          "height": 296
        },
        "id": "MqwlY98l_JX2",
        "outputId": "3f2ba028-cac0-4942-af46-ebb3ea691080"
      },
      "execution_count": 44,
      "outputs": [
        {
          "output_type": "execute_result",
          "data": {
            "text/plain": [
              "<sklearn.metrics._plot.confusion_matrix.ConfusionMatrixDisplay at 0x7fc937b5f7f0>"
            ]
          },
          "metadata": {},
          "execution_count": 44
        },
        {
          "output_type": "display_data",
          "data": {
            "text/plain": [
              "<Figure size 432x288 with 2 Axes>"
            ],
            "image/png": "[encoded data removed]"
          },
          "metadata": {
            "needs_background": "light"
          }
        }
      ]
    },
    {
      "cell_type": "markdown",
      "source": [
        "Current accuracy of the model using logistic regression on 400k samples : ~74%"
      ],
      "metadata": {
        "id": "Z6c1-BR7_O_N"
      }
    },
    {
      "cell_type": "markdown",
      "source": [
        "**Decision Tree Classifier**"
      ],
      "metadata": {
        "id": "PHVVW_NA_Rtr"
      }
    },
    {
      "cell_type": "code",
      "source": [
        "dc = DecisionTreeClassifier(criterion = 'entropy', random_state = 22)\n",
        "start_time = time.time()\n",
        "dc.fit(X_train_tf, y_train)\n",
        "print(\"Execution Time:\", time.time()-start_time,\"secs\")"
      ],
      "metadata": {
        "colab": {
          "base_uri": "https://localhost:8080/"
        },
        "id": "NMoC7g1Z_Kj3",
        "outputId": "25b3903e-64e6-4e8c-b80b-7d7abd15578c"
      },
      "execution_count": 45,
      "outputs": [
        {
          "output_type": "stream",
          "name": "stdout",
          "text": [
            "Execution Time: 0.04374837875366211 secs\n"
          ]
        }
      ]
    },
    {
      "cell_type": "code",
      "source": [
        "y_pred_dc = dc.predict(X_test)\n",
        "print(\"Accuracy:\\n\", accuracy_score(y_test, y_pred_dc))"
      ],
      "metadata": {
        "colab": {
          "base_uri": "https://localhost:8080/"
        },
        "id": "UTpoUADT_S5e",
        "outputId": "5855fdaf-f805-4560-c7da-ee572f6ff480"
      },
      "execution_count": 46,
      "outputs": [
        {
          "output_type": "stream",
          "name": "stdout",
          "text": [
            "Accuracy:\n",
            " 0.5963855421686747\n"
          ]
        }
      ]
    },
    {
      "cell_type": "code",
      "source": [
        "from sklearn import metrics\n",
        "confusion_matrix = metrics.confusion_matrix(y_test, y_pred_dc)\n",
        "\n",
        "cm_display = metrics.ConfusionMatrixDisplay(confusion_matrix = confusion_matrix, display_labels = ['Negaitve','Positive'])\n",
        "cm_display.plot()"
      ],
      "metadata": {
        "colab": {
          "base_uri": "https://localhost:8080/",
          "height": 296
        },
        "id": "RRWz8GEU_VYw",
        "outputId": "ea85e84a-d8e4-41fc-e33c-18106c5423bf"
      },
      "execution_count": 47,
      "outputs": [
        {
          "output_type": "execute_result",
          "data": {
            "text/plain": [
              "<sklearn.metrics._plot.confusion_matrix.ConfusionMatrixDisplay at 0x7fc936e4c7c0>"
            ]
          },
          "metadata": {},
          "execution_count": 47
        },
        {
          "output_type": "display_data",
          "data": {
            "text/plain": [
              "<Figure size 432x288 with 2 Axes>"
            ],
            "image/png": "[encoded data removed]"
          },
          "metadata": {
            "needs_background": "light"
          }
        }
      ]
    },
    {
      "cell_type": "markdown",
      "source": [
        "Current accuracy of the model using decision tree classifier on 400k samples : ~65%"
      ],
      "metadata": {
        "id": "WNDieb02_dLB"
      }
    },
    {
      "cell_type": "markdown",
      "source": [
        "**Naive Bayes Classifier**"
      ],
      "metadata": {
        "id": "HN1zEruI_f3Y"
      }
    },
    {
      "cell_type": "code",
      "source": [
        "nb = MultinomialNB()\n",
        "start_time = time.time()\n",
        "nb.fit(X_train_tf,y_train)\n",
        "print(\"Execution Time:\", time.time()-start_time,\"secs\")"
      ],
      "metadata": {
        "colab": {
          "base_uri": "https://localhost:8080/"
        },
        "id": "CD-BnvhW_X6k",
        "outputId": "6c9360f8-ff3f-47e4-9bbb-f248a1f570fa"
      },
      "execution_count": 48,
      "outputs": [
        {
          "output_type": "stream",
          "name": "stdout",
          "text": [
            "Execution Time: 0.004961729049682617 secs\n"
          ]
        }
      ]
    },
    {
      "cell_type": "code",
      "source": [
        "y_pred_nb = nb.predict(X_test)\n",
        "print(\"Accuracy:\\n\", accuracy_score(y_test, y_pred_nb))\n"
      ],
      "metadata": {
        "colab": {
          "base_uri": "https://localhost:8080/"
        },
        "id": "L7O-2xRz_hBm",
        "outputId": "2a75821b-075d-453b-ec17-606f51ae0374"
      },
      "execution_count": 49,
      "outputs": [
        {
          "output_type": "stream",
          "name": "stdout",
          "text": [
            "Accuracy:\n",
            " 0.6204819277108434\n"
          ]
        }
      ]
    },
    {
      "cell_type": "markdown",
      "source": [
        "Current accuracy of the model using decision tree classifier on 400k samples : ~72%"
      ],
      "metadata": {
        "id": "57oD4OWr_mBr"
      }
    },
    {
      "cell_type": "code",
      "source": [
        "from sklearn import metrics\n",
        "confusion_matrix = metrics.confusion_matrix(y_test, y_pred_nb)\n",
        "\n",
        "cm_display = metrics.ConfusionMatrixDisplay(confusion_matrix = confusion_matrix, display_labels = ['Negative','Positive'])\n",
        "cm_display.plot()"
      ],
      "metadata": {
        "colab": {
          "base_uri": "https://localhost:8080/",
          "height": 296
        },
        "id": "8ZwJT8xB_iQj",
        "outputId": "c825c03e-d3ad-49cb-9373-51087e8dbd72"
      },
      "execution_count": 50,
      "outputs": [
        {
          "output_type": "execute_result",
          "data": {
            "text/plain": [
              "<sklearn.metrics._plot.confusion_matrix.ConfusionMatrixDisplay at 0x7fc937aab7c0>"
            ]
          },
          "metadata": {},
          "execution_count": 50
        },
        {
          "output_type": "display_data",
          "data": {
            "text/plain": [
              "<Figure size 432x288 with 2 Axes>"
            ],
            "image/png": "[encoded data removed]"
          },
          "metadata": {
            "needs_background": "light"
          }
        }
      ]
    }
  ]
}