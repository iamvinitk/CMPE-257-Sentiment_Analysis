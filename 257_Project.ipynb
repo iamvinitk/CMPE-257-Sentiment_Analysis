{
  "nbformat": 4,
  "nbformat_minor": 0,
  "metadata": {
    "colab": {
      "provenance": []
    },
    "kernelspec": {
      "name": "python3",
      "display_name": "Python 3"
    },
    "language_info": {
      "name": "python"
    },
    "accelerator": "GPU",
    "gpuClass": "standard"
  },
  "cells": [
    {
      "cell_type": "code",
      "execution_count": 74,
      "metadata": {
        "colab": {
          "base_uri": "https://localhost:8080/"
        },
        "id": "dODki_iR8AB8",
        "outputId": "137fd78f-615d-4afc-cb65-035833fd7503"
      },
      "outputs": [
        {
          "output_type": "stream",
          "name": "stdout",
          "text": [
            "Drive already mounted at /content/drive; to attempt to forcibly remount, call drive.mount(\"/content/drive\", force_remount=True).\n"
          ]
        }
      ],
      "source": [
        "from google.colab import drive\n",
        "drive.mount('/content/drive')"
      ]
    },
    {
      "cell_type": "code",
      "source": [
        "import pandas as pd"
      ],
      "metadata": {
        "id": "a4HS-ETT9xam"
      },
      "execution_count": 75,
      "outputs": []
    },
    {
      "cell_type": "code",
      "source": [
        "import numpy as np \n",
        "import pandas as pd \n",
        "import matplotlib.pyplot as plt \n",
        "\n",
        "from sklearn.utils import shuffle\n",
        "\n",
        "import re\n",
        "import nltk\n",
        "nltk.download('stopwords')\n",
        "import time\n",
        "import warnings\n",
        "warnings.filterwarnings(\"ignore\")\n",
        "from nltk.corpus import stopwords\n",
        "from nltk.stem.porter import PorterStemmer\n",
        "from nltk.stem import LancasterStemmer\n",
        "\n",
        "from sklearn.preprocessing import StandardScaler\n",
        "from sklearn.preprocessing import LabelEncoder\n",
        "from sklearn.feature_extraction.text import CountVectorizer\n",
        "from sklearn.feature_extraction.text import TfidfVectorizer\n",
        "from sklearn.metrics import confusion_matrix, accuracy_score, classification_report\n",
        "\n",
        "from sklearn.linear_model import LogisticRegression\n",
        "from sklearn.naive_bayes import MultinomialNB\n",
        "from sklearn.tree import DecisionTreeClassifier\n",
        "from sklearn.ensemble import RandomForestClassifier\n",
        "import xgboost as xgb\n"
      ],
      "metadata": {
        "id": "AfbfBo9DrLPX",
        "colab": {
          "base_uri": "https://localhost:8080/"
        },
        "outputId": "b6c6b7e6-995d-4510-ca23-6e892963fa78"
      },
      "execution_count": 76,
      "outputs": [
        {
          "output_type": "stream",
          "name": "stderr",
          "text": [
            "[nltk_data] Downloading package stopwords to /root/nltk_data...\n",
            "[nltk_data]   Package stopwords is already up-to-date!\n"
          ]
        }
      ]
    },
    {
      "cell_type": "code",
      "source": [
        "train_df = pd.read_csv('/content/drive/MyDrive/257_Project/train.csv', encoding=\"ISO-8859-1\", header=None)\n",
        "train_df.columns = ['polarity', 'id', 'date', 'query', 'user', 'tweet']\n",
        "\n",
        "test_df = pd.read_csv('/content/drive/MyDrive/257_Project/test.csv', encoding=\"ISO-8859-1\", header=None)\n",
        "test_df.columns = ['polarity', 'id', 'date', 'query', 'user', 'tweet']\n"
      ],
      "metadata": {
        "id": "Pu0In7qkrtgS"
      },
      "execution_count": 77,
      "outputs": []
    },
    {
      "cell_type": "code",
      "source": [
        "train_df.shape"
      ],
      "metadata": {
        "colab": {
          "base_uri": "https://localhost:8080/"
        },
        "id": "w4rybr63sHfA",
        "outputId": "2f469bc8-fdba-4f48-c7f1-99124eb98488"
      },
      "execution_count": 78,
      "outputs": [
        {
          "output_type": "execute_result",
          "data": {
            "text/plain": [
              "(1600000, 6)"
            ]
          },
          "metadata": {},
          "execution_count": 78
        }
      ]
    },
    {
      "cell_type": "code",
      "source": [
        "test_df.shape"
      ],
      "metadata": {
        "colab": {
          "base_uri": "https://localhost:8080/"
        },
        "id": "TkZXcpg6sRKS",
        "outputId": "610707c5-dc13-4d56-de27-440eb1eaa200"
      },
      "execution_count": 79,
      "outputs": [
        {
          "output_type": "execute_result",
          "data": {
            "text/plain": [
              "(498, 6)"
            ]
          },
          "metadata": {},
          "execution_count": 79
        }
      ]
    },
    {
      "cell_type": "code",
      "source": [
        "word_bank = []\n",
        "\n",
        "def preprocess(text):\n",
        "    review = re.sub('[^a-zA-Z]',' ',text) \n",
        "    review = review.lower()\n",
        "    review = review.split()\n",
        "    ps = LancasterStemmer()\n",
        "    all_stopwords = stopwords.words('english')\n",
        "    all_stopwords.remove('not')\n",
        "    review = [ps.stem(word) for word in review if not word in set(all_stopwords)]\n",
        "    return ' '.join(review)"
      ],
      "metadata": {
        "id": "eQQFODPwhX-M"
      },
      "execution_count": 80,
      "outputs": []
    },
    {
      "cell_type": "markdown",
      "source": [
        "Training the model on 50000 samples for time being, will do it on total data for final submission\n"
      ],
      "metadata": {
        "id": "d3RejxP7y3dV"
      }
    },
    {
      "cell_type": "code",
      "source": [
        "train_df = shuffle(train_df,random_state=2)\n",
        "train_df = train_df[1:50000]"
      ],
      "metadata": {
        "id": "H_u9GnGCh7f8"
      },
      "execution_count": 81,
      "outputs": []
    },
    {
      "cell_type": "code",
      "source": [
        "train_df['polarity'].value_counts()"
      ],
      "metadata": {
        "colab": {
          "base_uri": "https://localhost:8080/"
        },
        "id": "gVbpjrS4h9cm",
        "outputId": "39b5d60f-d32a-4e10-f8d2-8534575e9cca"
      },
      "execution_count": 82,
      "outputs": [
        {
          "output_type": "execute_result",
          "data": {
            "text/plain": [
              "4    25093\n",
              "0    24906\n",
              "Name: polarity, dtype: int64"
            ]
          },
          "metadata": {},
          "execution_count": 82
        }
      ]
    },
    {
      "cell_type": "code",
      "source": [
        "X_train = train_df['tweet'].apply(lambda x: preprocess(x))"
      ],
      "metadata": {
        "id": "ADo2hZ-0iR3T"
      },
      "execution_count": 83,
      "outputs": []
    },
    {
      "cell_type": "code",
      "source": [
        "y_train = train_df['polarity']\n",
        "le = LabelEncoder()\n",
        "y = le.fit_transform(y_train)"
      ],
      "metadata": {
        "id": "7oM4gVbpjN2l"
      },
      "execution_count": 84,
      "outputs": []
    },
    {
      "cell_type": "code",
      "source": [
        "X_test = test_df['tweet']\n",
        "y_test = test_df['polarity']"
      ],
      "metadata": {
        "id": "CqXRjUWVjSG3"
      },
      "execution_count": 85,
      "outputs": []
    },
    {
      "cell_type": "code",
      "source": [
        "tfidf = TfidfVectorizer(max_features = 600)\n",
        "X_train_tf = tfidf.fit_transform(X_train).toarray() \n",
        "X_test_tf = tfidf.transform(X_test).toarray()"
      ],
      "metadata": {
        "id": "uHJyqgM5vkQp"
      },
      "execution_count": 86,
      "outputs": []
    },
    {
      "cell_type": "code",
      "source": [
        "X_train_tf.shape, X_test_tf.shape, y_train.shape, y_test.shape"
      ],
      "metadata": {
        "colab": {
          "base_uri": "https://localhost:8080/"
        },
        "id": "Brhplx83voGH",
        "outputId": "87286246-3aa9-4b7a-e6b0-d42566e26e42"
      },
      "execution_count": 87,
      "outputs": [
        {
          "output_type": "execute_result",
          "data": {
            "text/plain": [
              "((49999, 600), (498, 600), (49999,), (498,))"
            ]
          },
          "metadata": {},
          "execution_count": 87
        }
      ]
    },
    {
      "cell_type": "markdown",
      "source": [
        "**Logistic Regreession**"
      ],
      "metadata": {
        "id": "xKq3Z1GzzHGX"
      }
    },
    {
      "cell_type": "code",
      "source": [
        "lr = LogisticRegression(random_state = 0)\n",
        "start_time = time.time()\n",
        "lr.fit(X_train_tf, y_train) \n",
        "print(\"Execution Time:\", time.time()-start_time,\"secs\")"
      ],
      "metadata": {
        "colab": {
          "base_uri": "https://localhost:8080/"
        },
        "id": "isrLpH5ExYrS",
        "outputId": "66ba2bae-0290-4c2e-ae17-ea7bb398378c"
      },
      "execution_count": 88,
      "outputs": [
        {
          "output_type": "stream",
          "name": "stdout",
          "text": [
            "Execution Time: 1.807976484298706 secs\n"
          ]
        }
      ]
    },
    {
      "cell_type": "code",
      "source": [
        "y_pred_lr = lr.predict(X_test_tf)\n",
        "print(\"Accuracy:\\n\", accuracy_score(y_test, y_pred_lr))\n",
        "print(\"Confusion Matrix:\\n\", confusion_matrix(y_test, y_pred_lr))\n",
        "print(\"Classification Report:\\n\", classification_report(y_test, y_pred_lr))"
      ],
      "metadata": {
        "colab": {
          "base_uri": "https://localhost:8080/"
        },
        "id": "xay79nTfyJ_E",
        "outputId": "a4ea1d2a-9427-400e-ed82-85936318d24a"
      },
      "execution_count": 89,
      "outputs": [
        {
          "output_type": "stream",
          "name": "stdout",
          "text": [
            "Accuracy:\n",
            " 0.4799196787148594\n",
            "Confusion Matrix:\n",
            " [[ 90   0  87]\n",
            " [ 10   0 129]\n",
            " [ 33   0 149]]\n",
            "Classification Report:\n",
            "               precision    recall  f1-score   support\n",
            "\n",
            "           0       0.68      0.51      0.58       177\n",
            "           2       0.00      0.00      0.00       139\n",
            "           4       0.41      0.82      0.54       182\n",
            "\n",
            "    accuracy                           0.48       498\n",
            "   macro avg       0.36      0.44      0.38       498\n",
            "weighted avg       0.39      0.48      0.41       498\n",
            "\n"
          ]
        }
      ]
    },
    {
      "cell_type": "markdown",
      "source": [
        "Current accuracy of the model using logistic regression on 50k samples : ~48%"
      ],
      "metadata": {
        "id": "6a8xEPnezsY2"
      }
    },
    {
      "cell_type": "markdown",
      "source": [
        "**Decision Tree Classifier**"
      ],
      "metadata": {
        "id": "4ES2kr0KzKJ8"
      }
    },
    {
      "cell_type": "code",
      "source": [
        "dc = DecisionTreeClassifier(criterion = 'entropy', random_state = 22)\n",
        "start_time = time.time()\n",
        "dc.fit(X_train_tf, y_train)\n",
        "print(\"Execution Time:\", time.time()-start_time,\"secs\")"
      ],
      "metadata": {
        "colab": {
          "base_uri": "https://localhost:8080/"
        },
        "id": "jJdDieZfyKrz",
        "outputId": "76d4a8fa-b387-40aa-e890-c3c56780ad6f"
      },
      "execution_count": 90,
      "outputs": [
        {
          "output_type": "stream",
          "name": "stdout",
          "text": [
            "Execution Time: 38.95518350601196 secs\n"
          ]
        }
      ]
    },
    {
      "cell_type": "code",
      "source": [
        "y_pred_dc = dc.predict(X_test_tf)\n",
        "print(\"Accuracy:\\n\", accuracy_score(y_test, y_pred_dc))\n",
        "print(\"Confusion Matrix:\\n\", confusion_matrix(y_test, y_pred_dc))\n",
        "print(\"Classification Report:\\n\", classification_report(y_test, y_pred_dc))"
      ],
      "metadata": {
        "colab": {
          "base_uri": "https://localhost:8080/"
        },
        "id": "DXExVSvGzNox",
        "outputId": "6c3fd47e-3e95-499c-fa2e-72b7100790ba"
      },
      "execution_count": 91,
      "outputs": [
        {
          "output_type": "stream",
          "name": "stdout",
          "text": [
            "Accuracy:\n",
            " 0.44779116465863456\n",
            "Confusion Matrix:\n",
            " [[ 98   0  79]\n",
            " [ 39   0 100]\n",
            " [ 57   0 125]]\n",
            "Classification Report:\n",
            "               precision    recall  f1-score   support\n",
            "\n",
            "           0       0.51      0.55      0.53       177\n",
            "           2       0.00      0.00      0.00       139\n",
            "           4       0.41      0.69      0.51       182\n",
            "\n",
            "    accuracy                           0.45       498\n",
            "   macro avg       0.31      0.41      0.35       498\n",
            "weighted avg       0.33      0.45      0.38       498\n",
            "\n"
          ]
        }
      ]
    },
    {
      "cell_type": "markdown",
      "source": [
        "Current accuracy of the model using decision tree classifier on 50k samples : ~45%"
      ],
      "metadata": {
        "id": "dJNFORiWz55K"
      }
    },
    {
      "cell_type": "markdown",
      "source": [
        "**Naive Bayes Classifier**"
      ],
      "metadata": {
        "id": "ZvO_0ixt0ypP"
      }
    },
    {
      "cell_type": "code",
      "source": [
        "nb = MultinomialNB()\n",
        "start_time = time.time()\n",
        "nb.fit(X_train_tf,y_train)\n",
        "print(\"Execution Time:\", time.time()-start_time,\"secs\")"
      ],
      "metadata": {
        "colab": {
          "base_uri": "https://localhost:8080/"
        },
        "id": "XLG_gGvy00l8",
        "outputId": "5907fa6c-41ed-4987-be6a-40c69293e052"
      },
      "execution_count": 92,
      "outputs": [
        {
          "output_type": "stream",
          "name": "stdout",
          "text": [
            "Execution Time: 0.13629865646362305 secs\n"
          ]
        }
      ]
    },
    {
      "cell_type": "code",
      "source": [
        "y_pred_nb = nb.predict(X_test_tf)\n",
        "print(\"Accuracy:\\n\", accuracy_score(y_test, y_pred_nb))\n",
        "print(\"Confusion Matrix:\\n\", confusion_matrix(y_test, y_pred_nb))\n",
        "print(\"Classification Report:\\n\", classification_report(y_test, y_pred_nb))"
      ],
      "metadata": {
        "colab": {
          "base_uri": "https://localhost:8080/"
        },
        "id": "7VbajlfR03QG",
        "outputId": "74210696-ffd8-4214-d0d3-b4a4d11923c7"
      },
      "execution_count": 93,
      "outputs": [
        {
          "output_type": "stream",
          "name": "stdout",
          "text": [
            "Accuracy:\n",
            " 0.4839357429718876\n",
            "Confusion Matrix:\n",
            " [[100   0  77]\n",
            " [ 17   0 122]\n",
            " [ 41   0 141]]\n",
            "Classification Report:\n",
            "               precision    recall  f1-score   support\n",
            "\n",
            "           0       0.63      0.56      0.60       177\n",
            "           2       0.00      0.00      0.00       139\n",
            "           4       0.41      0.77      0.54       182\n",
            "\n",
            "    accuracy                           0.48       498\n",
            "   macro avg       0.35      0.45      0.38       498\n",
            "weighted avg       0.38      0.48      0.41       498\n",
            "\n"
          ]
        }
      ]
    },
    {
      "cell_type": "code",
      "source": [],
      "metadata": {
        "id": "ezrfb-he05f9"
      },
      "execution_count": null,
      "outputs": []
    }
  ]
}